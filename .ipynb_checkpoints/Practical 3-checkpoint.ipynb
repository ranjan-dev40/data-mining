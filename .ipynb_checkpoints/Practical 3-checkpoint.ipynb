{
 "cells": [
  {
   "cell_type": "markdown",
   "id": "5449a873",
   "metadata": {},
   "source": [
    "Program 1:"
   ]
  },
  {
   "cell_type": "code",
   "execution_count": 9,
   "id": "03712ab9",
   "metadata": {},
   "outputs": [
    {
     "name": "stdout",
     "output_type": "stream",
     "text": [
      "Word= red\n",
      "Word= black\n",
      "Word= red\n",
      "Word= orange\n",
      "Word= black\n",
      "Word= \n",
      "Output: \n",
      "red\n",
      "black\n",
      "orange\n"
     ]
    }
   ],
   "source": [
    "var1=[]\n",
    "var2=[]\n",
    "boolvalue=True\n",
    "while bvalue:\n",
    "    var3=input('Word= ')\n",
    "    if(var3==''):\n",
    "        bvalue=False\n",
    "    else:\n",
    "        var1.append(var3)\n",
    "print('Output: ')\n",
    "for i in range(len(var1)):\n",
    "    if(var1[i] not in var2):\n",
    "        var2.append(var1[i])\n",
    "for i in var2:\n",
    "    print(i)"
   ]
  },
  {
   "cell_type": "markdown",
   "id": "1126c680",
   "metadata": {},
   "source": [
    "Program 2:"
   ]
  },
  {
   "cell_type": "markdown",
   "id": "df08be9f",
   "metadata": {},
   "source": [
    "1.Sorted by keys"
   ]
  },
  {
   "cell_type": "code",
   "execution_count": 6,
   "id": "807f18da",
   "metadata": {},
   "outputs": [
    {
     "name": "stdout",
     "output_type": "stream",
     "text": [
      "Input number of values :3\n",
      "Array 1:\n",
      "x=red\n",
      "x=orange\n",
      "x=black\n",
      "Array 2:\n",
      "y=200\n",
      "y=300\n",
      "y=100\n",
      "{'red': '200', 'orange': '300', 'black': '100'}\n",
      "Sorting Order \n",
      " 1.Key \n",
      " 2.Value\n",
      " Choice: 1\n",
      "Dict sorted by keys\n",
      "{'black': '100', 'orange': '300', 'red': '200'}\n"
     ]
    }
   ],
   "source": [
    "arr1=[]\n",
    "arr2=[]\n",
    "arr3={}\n",
    "n=int(input('Input number of values :'))\n",
    "print('Array 1:')\n",
    "for i in range(n):\n",
    "    arr1.append(input('x='))\n",
    "print('Array 2:')\n",
    "for i in range(n):\n",
    "    arr2.append(input('y='))\n",
    "for i in range(n):\n",
    "    arr3.update({arr1[i]:arr2[i]})\n",
    "print(arr3)\n",
    "ch=int(input('Sorting Order \\n 1.Key \\n 2.Value\\n Choice: '))\n",
    "if(ch==1):\n",
    "    arr4=list(arr3.keys())\n",
    "    arr4.sort()\n",
    "    arr5={}\n",
    "    print('Dict sorted by keys')\n",
    "    for i in arr4:\n",
    "        arr5.update({i:arr3[i]})\n",
    "    print(arr5)\n",
    "elif(ch==2):\n",
    "    arr4=list(arr3.values())\n",
    "    arr5=list(arr3.keys())\n",
    "    arr4.sort()\n",
    "    arr6={}\n",
    "    print('Dict sorted by value')\n",
    "    for i in arr4:\n",
    "        for j in arr5:\n",
    "            if(i==arr3[j]):\n",
    "                arr6.update({j:i})\n",
    "    print(arr6)\n",
    "    \n",
    "    "
   ]
  },
  {
   "cell_type": "markdown",
   "id": "f32b8875",
   "metadata": {},
   "source": [
    "2. Sorted by values:"
   ]
  },
  {
   "cell_type": "code",
   "execution_count": 8,
   "id": "9ce2abb4",
   "metadata": {},
   "outputs": [
    {
     "name": "stdout",
     "output_type": "stream",
     "text": [
      "Input number of values :3\n",
      "Array 1:\n",
      "x=red\n",
      "x=orange\n",
      "x=black\n",
      "Array 2:\n",
      "y=200\n",
      "y=300\n",
      "y=100\n",
      "{'red': '200', 'orange': '300', 'black': '100'}\n",
      "Sorting Order \n",
      " 1.Key \n",
      " 2.Value\n",
      " Choice: 2\n",
      "Dict sorted by value\n",
      "{'black': '100', 'red': '200', 'orange': '300'}\n"
     ]
    }
   ],
   "source": [
    "arr1=[]\n",
    "arr2=[]\n",
    "arr3={}\n",
    "n=int(input('Input number of values :'))\n",
    "print('Array 1:')\n",
    "for i in range(n):\n",
    "    arr1.append(input('x='))\n",
    "print('Array 2:')\n",
    "for i in range(n):\n",
    "    arr2.append(input('y='))\n",
    "for i in range(n):\n",
    "    arr3.update({arr1[i]:arr2[i]})\n",
    "print(arr3)\n",
    "ch=int(input('Sorting Order \\n 1.Key \\n 2.Value\\n Choice: '))\n",
    "if(ch==1):\n",
    "    arr4=list(arr3.keys())\n",
    "    arr4.sort()\n",
    "    arr5={}\n",
    "    print('Dict sorted by keys')\n",
    "    for i in arr4:\n",
    "        arr5.update({i:arr3[i]})\n",
    "    print(arr5)\n",
    "elif(ch==2):\n",
    "    arr4=list(arr3.values())\n",
    "    arr5=list(arr3.keys())\n",
    "    arr4.sort()\n",
    "    arr6={}\n",
    "    print('Dict sorted by value')\n",
    "    for i in arr4:\n",
    "        for j in arr5:\n",
    "            if(i==arr3[j]):\n",
    "                arr6.update({j:i})\n",
    "    print(arr6)\n",
    "    "
   ]
  },
  {
   "cell_type": "code",
   "execution_count": 13,
   "id": "9d5b08ae",
   "metadata": {},
   "outputs": [
    {
     "data": {
      "text/plain": [
       "'ell'"
      ]
     },
     "execution_count": 13,
     "metadata": {},
     "output_type": "execute_result"
    }
   ],
   "source": []
  },
  {
   "cell_type": "code",
   "execution_count": null,
   "id": "05c5d90d",
   "metadata": {},
   "outputs": [],
   "source": []
  }
 ],
 "metadata": {
  "kernelspec": {
   "display_name": "Python 3 (ipykernel)",
   "language": "python",
   "name": "python3"
  },
  "language_info": {
   "codemirror_mode": {
    "name": "ipython",
    "version": 3
   },
   "file_extension": ".py",
   "mimetype": "text/x-python",
   "name": "python",
   "nbconvert_exporter": "python",
   "pygments_lexer": "ipython3",
   "version": "3.9.13"
  }
 },
 "nbformat": 4,
 "nbformat_minor": 5
}
