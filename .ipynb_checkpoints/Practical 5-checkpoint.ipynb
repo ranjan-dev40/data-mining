{
 "cells": [
  {
   "cell_type": "markdown",
   "id": "dacaa182",
   "metadata": {},
   "source": [
    "#### Introduction\n",
    "NumPy is a Python package. It stands for 'Numerical Python'. It is a library consisting of multidimensional array objects and a collection of routines for processing of array.\n",
    "\n",
    "Numeric, the ancestor of NumPy, was developed by Jim Hugunin. Another package Numarray was also developed, having some additional functionalities. In 2005, Travis Oliphant created NumPy package by incorporating the features of Numarray into Numeric package. There are many contributors to this open source project.\n",
    "\n",
    "Operations using NumPy\n",
    "#### Using NumPy, a developer can perform the following operations −\n",
    "\n",
    "Mathematical and logical operations on arrays.\n",
    "\n",
    "Fourier transforms and routines for shape manipulation.\n",
    "\n",
    "Operations related to linear algebra. NumPy has in-built functions for linear algebra and random number generation."
   ]
  },
  {
   "cell_type": "markdown",
   "id": "d802e81b",
   "metadata": {},
   "source": [
    "#### Data type\n",
    "NumPy supports a much greater variety of numerical types than Python does. The following table shows different scalar data types defined in NumPy."
   ]
  },
  {
   "cell_type": "markdown",
   "id": "8ef04d58",
   "metadata": {},
   "source": [
    "#### 1\t\n",
    "bool_\n",
    "\n",
    "Boolean (True or False) stored as a byte\n",
    "\n",
    "#### 2\t\n",
    "int_\n",
    "\n",
    "Default integer type (same as C long; normally either int64 or int32)\n",
    "\n",
    "#### 3\t\n",
    "intc\n",
    "\n",
    "Identical to C int (normally int32 or int64)\n",
    "\n",
    "#### 4\t\n",
    "intp\n",
    "\n",
    "Integer used for indexing (same as C ssize_t; normally either int32 or int64)\n",
    "\n",
    "#### 5\t\n",
    "int8\n",
    "\n",
    "Byte (-128 to 127)\n",
    "\n",
    "#### 6\t\n",
    "int16\n",
    "\n",
    "Integer (-32768 to 32767)\n",
    "\n",
    "#### 7\t\n",
    "int32\n",
    "\n",
    "Integer (-2147483648 to 2147483647)\n",
    "\n",
    "#### 8\t\n",
    "int64\n",
    "\n",
    "Integer (-9223372036854775808 to 9223372036854775807)\n",
    "\n",
    "#### 9\t\n",
    "uint8\n",
    "\n",
    "Unsigned integer (0 to 255)\n",
    "\n",
    "#### 10\t\n",
    "uint16\n",
    "\n",
    "Unsigned integer (0 to 65535)\n",
    "\n",
    "#### 11\t\n",
    "uint32\n",
    "\n",
    "Unsigned integer (0 to 4294967295)\n",
    "\n",
    "#### 12\t\n",
    "uint64\n",
    "\n",
    "Unsigned integer (0 to 18446744073709551615)\n",
    "\n",
    "#### 13\t\n",
    "float_\n",
    "\n",
    "Shorthand for float64\n",
    "\n",
    "#### 14\t\n",
    "float16\n",
    "\n",
    "Half precision float: sign bit, 5 bits exponent, 10 bits mantissa\n",
    "\n",
    "#### 15\t\n",
    "float32\n",
    "\n",
    "Single precision float: sign bit, 8 bits exponent, 23 bits mantissa\n",
    "\n",
    "#### 16\t\n",
    "float64\n",
    "\n",
    "Double precision float: sign bit, 11 bits exponent, 52 bits mantissa"
   ]
  },
  {
   "cell_type": "markdown",
   "id": "70e91013",
   "metadata": {},
   "source": [
    "### Example"
   ]
  },
  {
   "cell_type": "code",
   "execution_count": 2,
   "id": "b2da4881",
   "metadata": {},
   "outputs": [
    {
     "name": "stdout",
     "output_type": "stream",
     "text": [
      "Requirement already satisfied: numpy in c:\\users\\lenovo\\anaconda3\\lib\\site-packages (1.21.5)\n",
      "Note: you may need to restart the kernel to use updated packages.\n"
     ]
    }
   ],
   "source": [
    "pip install numpy"
   ]
  },
  {
   "cell_type": "code",
   "execution_count": 6,
   "id": "fe400480",
   "metadata": {},
   "outputs": [
    {
     "name": "stdout",
     "output_type": "stream",
     "text": [
      "int32\n"
     ]
    }
   ],
   "source": [
    "# using array-scalar type \n",
    "import numpy as np \n",
    "dt = np.dtype(np.int32) \n",
    "print(dt)"
   ]
  },
  {
   "cell_type": "code",
   "execution_count": null,
   "id": "3680b30a",
   "metadata": {},
   "outputs": [],
   "source": []
  },
  {
   "cell_type": "code",
   "execution_count": null,
   "id": "259a1cac",
   "metadata": {},
   "outputs": [],
   "source": []
  }
 ],
 "metadata": {
  "kernelspec": {
   "display_name": "Python 3 (ipykernel)",
   "language": "python",
   "name": "python3"
  },
  "language_info": {
   "codemirror_mode": {
    "name": "ipython",
    "version": 3
   },
   "file_extension": ".py",
   "mimetype": "text/x-python",
   "name": "python",
   "nbconvert_exporter": "python",
   "pygments_lexer": "ipython3",
   "version": "3.9.13"
  }
 },
 "nbformat": 4,
 "nbformat_minor": 5
}
