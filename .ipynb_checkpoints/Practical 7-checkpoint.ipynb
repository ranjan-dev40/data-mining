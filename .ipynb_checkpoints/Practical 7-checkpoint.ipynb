{
 "cells": [
  {
   "cell_type": "markdown",
   "id": "5f4e7b63",
   "metadata": {},
   "source": [
    "## Python Pandas - Window Functions\n",
    "For working on numerical data, Pandas provide few variants like rolling, expanding and exponentially moving weights for window statistics. Among these are sum, mean, median, variance, covariance, correlation, etc.\n",
    "\n",
    "We will now learn how each of these can be applied on DataFrame objects.\n",
    "\n",
    "### .rolling() Function\n",
    "This function can be applied on a series of data. Specify the window=n argument and apply the appropriate statistical function on top of it"
   ]
  },
  {
   "cell_type": "code",
   "execution_count": 1,
   "id": "a5870cc7",
   "metadata": {},
   "outputs": [
    {
     "name": "stdout",
     "output_type": "stream",
     "text": [
      "                   A         B         C         D\n",
      "2000-01-01       NaN       NaN       NaN       NaN\n",
      "2000-01-02       NaN       NaN       NaN       NaN\n",
      "2000-01-03  0.227443 -0.127319  1.165904  0.700048\n",
      "2000-01-04  0.013355  0.052318  0.700348  0.523722\n",
      "2000-01-05  0.548297  0.735194  0.634354  0.288797\n",
      "2000-01-06  0.149638  1.248946 -0.532705  0.749088\n",
      "2000-01-07  0.171953  0.622233 -0.698117  1.387375\n",
      "2000-01-08 -0.523327 -0.211023 -0.043845  0.725593\n",
      "2000-01-09  0.098014 -0.925934  0.518729  0.576256\n",
      "2000-01-10  0.151523 -0.661014  1.105380 -0.333098\n"
     ]
    }
   ],
   "source": [
    "import pandas as pd\n",
    "import numpy as np\n",
    "\n",
    "df = pd.DataFrame(np.random.randn(10, 4),\n",
    "   index = pd.date_range('1/1/2000', periods=10),\n",
    "   columns = ['A', 'B', 'C', 'D'])\n",
    "print (df.rolling(window=3).mean())"
   ]
  },
  {
   "cell_type": "markdown",
   "id": "6e0b6dcf",
   "metadata": {},
   "source": [
    "### .expanding() Function\n",
    "This function can be applied on a series of data. Specify the min_periods=n argument and apply the appropriate statistical function on top of it."
   ]
  },
  {
   "cell_type": "code",
   "execution_count": 2,
   "id": "b7121c07",
   "metadata": {},
   "outputs": [
    {
     "name": "stdout",
     "output_type": "stream",
     "text": [
      "                   A         B         C         D\n",
      "2000-01-01       NaN       NaN       NaN       NaN\n",
      "2000-01-02       NaN       NaN       NaN       NaN\n",
      "2000-01-03  0.465759  0.393005 -0.147725 -0.284658\n",
      "2000-01-04  0.307204 -0.079781  0.081544 -0.597211\n",
      "2000-01-05  0.050895  0.108933  0.068760 -0.814097\n",
      "2000-01-06 -0.221685 -0.011839 -0.000066 -0.847893\n",
      "2000-01-07  0.187630 -0.166331 -0.019281 -0.746016\n",
      "2000-01-08  0.019952 -0.125104 -0.010415 -0.560044\n",
      "2000-01-09 -0.116624  0.010481  0.146533 -0.516130\n",
      "2000-01-10  0.004809  0.063379  0.081114 -0.429602\n"
     ]
    }
   ],
   "source": [
    "import pandas as pd\n",
    "import numpy as np\n",
    "\n",
    "df = pd.DataFrame(np.random.randn(10, 4),\n",
    "   index = pd.date_range('1/1/2000', periods=10),\n",
    "   columns = ['A', 'B', 'C', 'D'])\n",
    "print (df.expanding(min_periods=3).mean())"
   ]
  },
  {
   "cell_type": "markdown",
   "id": "cb59f6cc",
   "metadata": {},
   "source": [
    "### .ewm() Function\n",
    "ewm is applied on a series of data. Specify any of the com, span, halflife argument and apply the appropriate statistical function on top of it. It assigns the weights exponentially."
   ]
  },
  {
   "cell_type": "code",
   "execution_count": 3,
   "id": "301f4fd7",
   "metadata": {},
   "outputs": [
    {
     "name": "stdout",
     "output_type": "stream",
     "text": [
      "                   A         B         C         D\n",
      "2000-01-01  0.598850  0.021256  1.004298 -1.517973\n",
      "2000-01-02  0.130689  0.894606  1.738244 -0.144498\n",
      "2000-01-03  0.199580  0.285842  1.286644  0.460090\n",
      "2000-01-04 -0.361504 -0.675585 -1.270161  0.205815\n",
      "2000-01-05  0.256381 -0.414643 -0.548629  0.263386\n",
      "2000-01-06 -0.164372 -1.243628 -0.065509  0.210168\n",
      "2000-01-07 -1.434370 -0.295368 -0.452391  1.101493\n",
      "2000-01-08  0.771137 -0.256929  0.556159 -0.176133\n",
      "2000-01-09  0.984981  0.870297  0.619453  0.704127\n",
      "2000-01-10 -0.331328 -0.367306 -0.156381  0.615663\n"
     ]
    }
   ],
   "source": [
    "import pandas as pd\n",
    "import numpy as np\n",
    " \n",
    "df = pd.DataFrame(np.random.randn(10, 4),\n",
    "   index = pd.date_range('1/1/2000', periods=10),\n",
    "   columns = ['A', 'B', 'C', 'D'])\n",
    "print (df.ewm(com=0.5).mean())"
   ]
  },
  {
   "cell_type": "markdown",
   "id": "825f4385",
   "metadata": {},
   "source": [
    "### Applying Aggregations on DataFrame\n",
    "Let us create a DataFrame and apply aggregations on it."
   ]
  },
  {
   "cell_type": "code",
   "execution_count": 5,
   "id": "9c265e86",
   "metadata": {},
   "outputs": [
    {
     "name": "stdout",
     "output_type": "stream",
     "text": [
      "                   A         B         C         D\n",
      "2000-01-01  0.941286  1.430555  1.954955 -0.757123\n",
      "2000-01-02  1.255619 -0.759396  1.326720 -0.425331\n",
      "2000-01-03  0.755561  0.520400  0.200804 -0.263813\n",
      "2000-01-04 -0.631388 -2.634585 -0.894254  1.852790\n",
      "2000-01-05 -1.000408 -0.137274 -1.646477  0.270066\n",
      "2000-01-06  0.279834  1.334044 -0.756034  2.167491\n",
      "2000-01-07 -0.424651  0.340598  1.160879  1.267420\n",
      "2000-01-08 -0.016893  1.960952 -0.869397  0.068196\n",
      "2000-01-09 -0.472730  0.200629 -0.143262 -0.159609\n",
      "2000-01-10  0.315797  1.273113  0.437609  1.198022\n",
      "Rolling [window=3,min_periods=1,center=False,axis=0,method=single]\n"
     ]
    }
   ],
   "source": [
    "import pandas as pd\n",
    "import numpy as np\n",
    "\n",
    "df = pd.DataFrame(np.random.randn(10, 4),\n",
    "   index = pd.date_range('1/1/2000', periods=10),\n",
    "   columns = ['A', 'B', 'C', 'D'])\n",
    "\n",
    "print (df)\n",
    "r = df.rolling(window=3,min_periods=1)\n",
    "print (r)"
   ]
  },
  {
   "cell_type": "markdown",
   "id": "4b6922b8",
   "metadata": {},
   "source": [
    "## Python Pandas - Missing Data\n",
    "Missing data is always a problem in real life scenarios. Areas like machine learning and data mining face severe issues in the accuracy of their model predictions because of poor quality of data caused by missing values. In these areas, missing value treatment is a major point of focus to make their models more accurate and valid.\n",
    "\n",
    "### When and Why Is Data Missed?\n",
    "Let us consider an online survey for a product. Many a times, people do not share all the information related to them. Few people share their experience, but not how long they are using the product; few people share how long they are using the product, their experience but not their contact information. Thus, in some or the other way a part of data is always missing, and this is very common in real time.\n",
    "\n",
    "Let us now see how we can handle missing values (say NA or NaN) using Pandas."
   ]
  },
  {
   "cell_type": "code",
   "execution_count": 6,
   "id": "60b432aa",
   "metadata": {},
   "outputs": [
    {
     "name": "stdout",
     "output_type": "stream",
     "text": [
      "        one       two     three\n",
      "a  1.373060  0.330521 -0.989163\n",
      "b       NaN       NaN       NaN\n",
      "c  1.368147 -0.185458 -0.311474\n",
      "d       NaN       NaN       NaN\n",
      "e -0.493638 -3.260260  1.376081\n",
      "f -1.687607 -0.316389 -0.278759\n",
      "g       NaN       NaN       NaN\n",
      "h  1.718980  0.014533  1.568230\n"
     ]
    }
   ],
   "source": [
    "# import the pandas library\n",
    "import pandas as pd\n",
    "import numpy as np\n",
    "\n",
    "df = pd.DataFrame(np.random.randn(5, 3), index=['a', 'c', 'e', 'f',\n",
    "'h'],columns=['one', 'two', 'three'])\n",
    "\n",
    "df = df.reindex(['a', 'b', 'c', 'd', 'e', 'f', 'g', 'h'])\n",
    "\n",
    "print(df)"
   ]
  },
  {
   "cell_type": "markdown",
   "id": "58fb4942",
   "metadata": {},
   "source": [
    "### Check for Missing Values\n",
    "To make detecting missing values easier (and across different array dtypes), Pandas provides the isnull() and notnull() functions, which are also methods on Series and DataFrame objects −\n",
    "\n"
   ]
  },
  {
   "cell_type": "code",
   "execution_count": 7,
   "id": "6e7d4128",
   "metadata": {},
   "outputs": [
    {
     "name": "stdout",
     "output_type": "stream",
     "text": [
      "a    False\n",
      "b     True\n",
      "c    False\n",
      "d     True\n",
      "e    False\n",
      "f    False\n",
      "g     True\n",
      "h    False\n",
      "Name: one, dtype: bool\n"
     ]
    }
   ],
   "source": [
    "import pandas as pd\n",
    "import numpy as np\n",
    " \n",
    "df = pd.DataFrame(np.random.randn(5, 3), index=['a', 'c', 'e', 'f',\n",
    "'h'],columns=['one', 'two', 'three'])\n",
    "\n",
    "df = df.reindex(['a', 'b', 'c', 'd', 'e', 'f', 'g', 'h'])\n",
    "\n",
    "print (df['one'].isnull())"
   ]
  },
  {
   "cell_type": "markdown",
   "id": "b1e226bf",
   "metadata": {},
   "source": [
    "#### Calculations with Missing Data\n",
    "When summing data, NA will be treated as Zero\n",
    "If the data are all NA, then the result will be NA"
   ]
  },
  {
   "cell_type": "code",
   "execution_count": 9,
   "id": "e900bb48",
   "metadata": {},
   "outputs": [
    {
     "name": "stdout",
     "output_type": "stream",
     "text": [
      "-3.3839397161721863\n"
     ]
    }
   ],
   "source": [
    "import pandas as pd\n",
    "import numpy as np\n",
    "\n",
    "df = pd.DataFrame(np.random.randn(5, 3), index=['a', 'c', 'e', 'f',\n",
    "'h'],columns=['one', 'two', 'three'])\n",
    "\n",
    "df = df.reindex(['a', 'b', 'c', 'd', 'e', 'f', 'g', 'h'])\n",
    "\n",
    "print (df['one'].sum())"
   ]
  },
  {
   "cell_type": "markdown",
   "id": "379ff791",
   "metadata": {},
   "source": [
    "### Cleaning / Filling Missing Data\n",
    "Pandas provides various methods for cleaning the missing values. The fillna function can “fill in” NA values with non-null data in a couple of ways, which we have illustrated in the following sections.\n",
    "\n",
    "Replace NaN with a Scalar Value\n",
    "The following program shows how you can replace \"NaN\" with \"0\"."
   ]
  },
  {
   "cell_type": "code",
   "execution_count": 10,
   "id": "686b7434",
   "metadata": {},
   "outputs": [
    {
     "name": "stdout",
     "output_type": "stream",
     "text": [
      "        one       two     three\n",
      "a -0.109482  1.218709  0.228716\n",
      "b       NaN       NaN       NaN\n",
      "c  1.088383  0.602888  0.042219\n",
      "NaN replaced with '0':\n",
      "        one       two     three\n",
      "a -0.109482  1.218709  0.228716\n",
      "b  0.000000  0.000000  0.000000\n",
      "c  1.088383  0.602888  0.042219\n"
     ]
    }
   ],
   "source": [
    "import pandas as pd\n",
    "import numpy as np\n",
    "\n",
    "df = pd.DataFrame(np.random.randn(3, 3), index=['a', 'c', 'e'],columns=['one',\n",
    "'two', 'three'])\n",
    "\n",
    "df = df.reindex(['a', 'b', 'c'])\n",
    "\n",
    "print (df)\n",
    "print (\"NaN replaced with '0':\")\n",
    "print (df.fillna(0))\n"
   ]
  },
  {
   "cell_type": "markdown",
   "id": "4c222a98",
   "metadata": {},
   "source": [
    "### Drop Missing Values\n",
    "If you want to simply exclude the missing values, then use the dropna function along with the axis argument. By default, axis=0, i.e., along row, which means that if any value within a row is NA then the whole row is excluded."
   ]
  },
  {
   "cell_type": "code",
   "execution_count": 11,
   "id": "284ba1f4",
   "metadata": {},
   "outputs": [
    {
     "name": "stdout",
     "output_type": "stream",
     "text": [
      "        one       two     three\n",
      "a  0.194142 -1.707300  1.305455\n",
      "c -0.801219  1.097012  1.364520\n",
      "e  1.362957  1.546093  1.974096\n",
      "f  0.598793 -0.250619  0.330703\n",
      "h -0.625505  0.440700 -0.492087\n"
     ]
    }
   ],
   "source": [
    "import pandas as pd\n",
    "import numpy as np\n",
    "\n",
    "df = pd.DataFrame(np.random.randn(5, 3), index=['a', 'c', 'e', 'f',\n",
    "'h'],columns=['one', 'two', 'three'])\n",
    "\n",
    "df = df.reindex(['a', 'b', 'c', 'd', 'e', 'f', 'g', 'h'])\n",
    "print (df.dropna())"
   ]
  },
  {
   "cell_type": "markdown",
   "id": "db8dbf5d",
   "metadata": {},
   "source": [
    "\n",
    "## Python Pandas - GroupBy\n",
    "\n",
    "Any groupby operation involves one of the following operations on the original object. They are −\n",
    "\n",
    " Splitting the Object\n",
    "\n",
    " Applying a function\n",
    "\n",
    " Combining the results"
   ]
  },
  {
   "cell_type": "markdown",
   "id": "1e41ef66",
   "metadata": {},
   "source": [
    "### Split Data into Groups\n",
    "Pandas object can be split into any of their objects. There are multiple ways to split an object like −\n",
    "\n",
    "obj.groupby('key')\n",
    "obj.groupby(['key1','key2'])\n",
    "obj.groupby(key,axis=1)\n",
    "Let us now see how the grouping objects can be applied to the DataFrame object"
   ]
  },
  {
   "cell_type": "code",
   "execution_count": 12,
   "id": "76b6edf2",
   "metadata": {},
   "outputs": [
    {
     "name": "stdout",
     "output_type": "stream",
     "text": [
      "<pandas.core.groupby.generic.DataFrameGroupBy object at 0x000002AF15F94130>\n"
     ]
    }
   ],
   "source": [
    "# import the pandas library\n",
    "import pandas as pd\n",
    "\n",
    "ipl_data = {'Team': ['Riders', 'Riders', 'Devils', 'Devils', 'Kings',\n",
    "   'kings', 'Kings', 'Kings', 'Riders', 'Royals', 'Royals', 'Riders'],\n",
    "   'Rank': [1, 2, 2, 3, 3,4 ,1 ,1,2 , 4,1,2],\n",
    "   'Year': [2014,2015,2014,2015,2014,2015,2016,2017,2016,2014,2015,2017],\n",
    "   'Points':[876,789,863,673,741,812,756,788,694,701,804,690]}\n",
    "df = pd.DataFrame(ipl_data)\n",
    "\n",
    "print (df.groupby('Team'))"
   ]
  },
  {
   "cell_type": "markdown",
   "id": "054d5566",
   "metadata": {},
   "source": [
    "### View Groups\n"
   ]
  },
  {
   "cell_type": "code",
   "execution_count": 13,
   "id": "e6d4e516",
   "metadata": {},
   "outputs": [
    {
     "name": "stdout",
     "output_type": "stream",
     "text": [
      "{'Devils': [2, 3], 'Kings': [4, 6, 7], 'Riders': [0, 1, 8, 11], 'Royals': [9, 10], 'kings': [5]}\n"
     ]
    }
   ],
   "source": [
    "# import the pandas library\n",
    "import pandas as pd\n",
    "\n",
    "ipl_data = {'Team': ['Riders', 'Riders', 'Devils', 'Devils', 'Kings',\n",
    "   'kings', 'Kings', 'Kings', 'Riders', 'Royals', 'Royals', 'Riders'],\n",
    "   'Rank': [1, 2, 2, 3, 3,4 ,1 ,1,2 , 4,1,2],\n",
    "   'Year': [2014,2015,2014,2015,2014,2015,2016,2017,2016,2014,2015,2017],\n",
    "   'Points':[876,789,863,673,741,812,756,788,694,701,804,690]}\n",
    "df = pd.DataFrame(ipl_data)\n",
    "\n",
    "print (df.groupby('Team').groups)"
   ]
  },
  {
   "cell_type": "markdown",
   "id": "9391d3b8",
   "metadata": {},
   "source": [
    "### Iterating through Groups\n",
    "With the groupby object in hand, we can iterate through the object similar to itertools.obj.\n",
    "\n"
   ]
  },
  {
   "cell_type": "code",
   "execution_count": 16,
   "id": "f1e8c97c",
   "metadata": {},
   "outputs": [
    {
     "name": "stdout",
     "output_type": "stream",
     "text": [
      "2014\n",
      "2015\n",
      "2016\n",
      "2017\n",
      "      Team  Rank  Year  Points\n",
      "7    Kings     1  2017     788\n",
      "11  Riders     2  2017     690\n"
     ]
    }
   ],
   "source": [
    "# import the pandas library\n",
    "import pandas as pd\n",
    "\n",
    "ipl_data = {'Team': ['Riders', 'Riders', 'Devils', 'Devils', 'Kings',\n",
    "   'kings', 'Kings', 'Kings', 'Riders', 'Royals', 'Royals', 'Riders'],\n",
    "   'Rank': [1, 2, 2, 3, 3,4 ,1 ,1,2 , 4,1,2],\n",
    "   'Year': [2014,2015,2014,2015,2014,2015,2016,2017,2016,2014,2015,2017],\n",
    "   'Points':[876,789,863,673,741,812,756,788,694,701,804,690]}\n",
    "df = pd.DataFrame(ipl_data)\n",
    "\n",
    "grouped = df.groupby('Year')\n",
    "\n",
    "for name,group in grouped:\n",
    "    print (name)\n",
    "print (group)"
   ]
  },
  {
   "cell_type": "markdown",
   "id": "e6df95ce",
   "metadata": {},
   "source": [
    "### Select a Group\n",
    "Using the get_group() method, we can select a single group."
   ]
  },
  {
   "cell_type": "code",
   "execution_count": 17,
   "id": "28d9e558",
   "metadata": {},
   "outputs": [
    {
     "name": "stdout",
     "output_type": "stream",
     "text": [
      "     Team  Rank  Year  Points\n",
      "0  Riders     1  2014     876\n",
      "2  Devils     2  2014     863\n",
      "4   Kings     3  2014     741\n",
      "9  Royals     4  2014     701\n"
     ]
    }
   ],
   "source": [
    "# import the pandas library\n",
    "import pandas as pd\n",
    "\n",
    "ipl_data = {'Team': ['Riders', 'Riders', 'Devils', 'Devils', 'Kings',\n",
    "   'kings', 'Kings', 'Kings', 'Riders', 'Royals', 'Royals', 'Riders'],\n",
    "   'Rank': [1, 2, 2, 3, 3,4 ,1 ,1,2 , 4,1,2],\n",
    "   'Year': [2014,2015,2014,2015,2014,2015,2016,2017,2016,2014,2015,2017],\n",
    "   'Points':[876,789,863,673,741,812,756,788,694,701,804,690]}\n",
    "df = pd.DataFrame(ipl_data)\n",
    "\n",
    "grouped = df.groupby('Year')\n",
    "print (grouped.get_group(2014))"
   ]
  },
  {
   "cell_type": "markdown",
   "id": "bc3836e3",
   "metadata": {},
   "source": [
    "## Python Pandas - Merging/Joining\n",
    "\n",
    "Pandas has full-featured, high performance in-memory join operations idiomatically very similar to relational databases like SQL.\n",
    "\n",
    "Pandas provides a single function, merge, as the entry point for all standard database join operations between DataFrame objects −\n",
    "\n",
    "pd.merge(left, right, how='inner', on=None, left_on=None, right_on=None,\n",
    "left_index=False, right_index=False, sort=True)\n",
    "\n",
    "\n",
    "### Merge Two DataFrames on a key\n",
    "\n"
   ]
  },
  {
   "cell_type": "code",
   "execution_count": 19,
   "id": "e73e323b",
   "metadata": {},
   "outputs": [
    {
     "name": "stdout",
     "output_type": "stream",
     "text": [
      "   id  Name_x subject_id_x Name_y subject_id_y\n",
      "0   1    Alex         sub1  Billy         sub2\n",
      "1   2     Amy         sub2  Brian         sub4\n",
      "2   3   Allen         sub4   Bran         sub3\n",
      "3   4   Alice         sub6  Bryce         sub6\n",
      "4   5  Ayoung         sub5  Betty         sub5\n"
     ]
    }
   ],
   "source": [
    "import pandas as pd\n",
    "left = pd.DataFrame({\n",
    "   'id':[1,2,3,4,5],\n",
    "   'Name': ['Alex', 'Amy', 'Allen', 'Alice', 'Ayoung'],\n",
    "   'subject_id':['sub1','sub2','sub4','sub6','sub5']})\n",
    "right = pd.DataFrame({\n",
    "\t'id':[1,2,3,4,5],\n",
    "   'Name': ['Billy', 'Brian', 'Bran', 'Bryce', 'Betty'],\n",
    "   'subject_id':['sub2','sub4','sub3','sub6','sub5']})\n",
    "print (pd.merge(left,right,on='id'))"
   ]
  },
  {
   "cell_type": "markdown",
   "id": "bc33c251",
   "metadata": {},
   "source": [
    "### Merge Two DataFrames on Multiple Keys"
   ]
  },
  {
   "cell_type": "code",
   "execution_count": 20,
   "id": "5459a5c0",
   "metadata": {},
   "outputs": [
    {
     "name": "stdout",
     "output_type": "stream",
     "text": [
      "   id  Name_x subject_id Name_y\n",
      "0   4   Alice       sub6  Bryce\n",
      "1   5  Ayoung       sub5  Betty\n"
     ]
    }
   ],
   "source": [
    "import pandas as pd\n",
    "left = pd.DataFrame({\n",
    "   'id':[1,2,3,4,5],\n",
    "   'Name': ['Alex', 'Amy', 'Allen', 'Alice', 'Ayoung'],\n",
    "   'subject_id':['sub1','sub2','sub4','sub6','sub5']})\n",
    "right = pd.DataFrame({\n",
    "\t'id':[1,2,3,4,5],\n",
    "   'Name': ['Billy', 'Brian', 'Bran', 'Bryce', 'Betty'],\n",
    "   'subject_id':['sub2','sub4','sub3','sub6','sub5']})\n",
    "print (pd.merge(left,right,on=['id','subject_id']))\n"
   ]
  },
  {
   "cell_type": "markdown",
   "id": "26697ce2",
   "metadata": {},
   "source": [
    "### Left Join"
   ]
  },
  {
   "cell_type": "code",
   "execution_count": 21,
   "id": "833f5b0d",
   "metadata": {},
   "outputs": [
    {
     "name": "stdout",
     "output_type": "stream",
     "text": [
      "   id_x  Name_x subject_id  id_y Name_y\n",
      "0     1    Alex       sub1   NaN    NaN\n",
      "1     2     Amy       sub2   1.0  Billy\n",
      "2     3   Allen       sub4   2.0  Brian\n",
      "3     4   Alice       sub6   4.0  Bryce\n",
      "4     5  Ayoung       sub5   5.0  Betty\n"
     ]
    }
   ],
   "source": [
    "import pandas as pd\n",
    "left = pd.DataFrame({\n",
    "   'id':[1,2,3,4,5],\n",
    "   'Name': ['Alex', 'Amy', 'Allen', 'Alice', 'Ayoung'],\n",
    "   'subject_id':['sub1','sub2','sub4','sub6','sub5']})\n",
    "right = pd.DataFrame({\n",
    "   'id':[1,2,3,4,5],\n",
    "   'Name': ['Billy', 'Brian', 'Bran', 'Bryce', 'Betty'],\n",
    "   'subject_id':['sub2','sub4','sub3','sub6','sub5']})\n",
    "print (pd.merge(left, right, on='subject_id', how='left'))\n"
   ]
  },
  {
   "cell_type": "markdown",
   "id": "69807f47",
   "metadata": {},
   "source": [
    "### Right Join"
   ]
  },
  {
   "cell_type": "code",
   "execution_count": 23,
   "id": "fcaddbdd",
   "metadata": {},
   "outputs": [
    {
     "name": "stdout",
     "output_type": "stream",
     "text": [
      "   id_x  Name_x subject_id  id_y Name_y\n",
      "0   2.0     Amy       sub2     1  Billy\n",
      "1   3.0   Allen       sub4     2  Brian\n",
      "2   NaN     NaN       sub3     3   Bran\n",
      "3   4.0   Alice       sub6     4  Bryce\n",
      "4   5.0  Ayoung       sub5     5  Betty\n"
     ]
    }
   ],
   "source": [
    "import pandas as pd\n",
    "left = pd.DataFrame({\n",
    "   'id':[1,2,3,4,5],\n",
    "   'Name': ['Alex', 'Amy', 'Allen', 'Alice', 'Ayoung'],\n",
    "   'subject_id':['sub1','sub2','sub4','sub6','sub5']})\n",
    "right = pd.DataFrame({\n",
    "   'id':[1,2,3,4,5],\n",
    "   'Name': ['Billy', 'Brian', 'Bran', 'Bryce', 'Betty'],\n",
    "   'subject_id':['sub2','sub4','sub3','sub6','sub5']})\n",
    "print (pd.merge(left, right, on='subject_id', how='right'))"
   ]
  },
  {
   "cell_type": "markdown",
   "id": "c0876a14",
   "metadata": {},
   "source": [
    "### Outer Join\n"
   ]
  },
  {
   "cell_type": "code",
   "execution_count": 24,
   "id": "bb207d52",
   "metadata": {},
   "outputs": [
    {
     "name": "stdout",
     "output_type": "stream",
     "text": [
      "   id_x  Name_x subject_id  id_y Name_y\n",
      "0   1.0    Alex       sub1   NaN    NaN\n",
      "1   2.0     Amy       sub2   1.0  Billy\n",
      "2   3.0   Allen       sub4   2.0  Brian\n",
      "3   4.0   Alice       sub6   4.0  Bryce\n",
      "4   5.0  Ayoung       sub5   5.0  Betty\n",
      "5   NaN     NaN       sub3   3.0   Bran\n"
     ]
    }
   ],
   "source": [
    "import pandas as pd\n",
    "left = pd.DataFrame({\n",
    "   'id':[1,2,3,4,5],\n",
    "   'Name': ['Alex', 'Amy', 'Allen', 'Alice', 'Ayoung'],\n",
    "   'subject_id':['sub1','sub2','sub4','sub6','sub5']})\n",
    "right = pd.DataFrame({\n",
    "   'id':[1,2,3,4,5],\n",
    "   'Name': ['Billy', 'Brian', 'Bran', 'Bryce', 'Betty'],\n",
    "   'subject_id':['sub2','sub4','sub3','sub6','sub5']})\n",
    "print (pd.merge(left, right, how='outer', on='subject_id'))"
   ]
  },
  {
   "cell_type": "markdown",
   "id": "43b6bfab",
   "metadata": {},
   "source": [
    "### Inner Join\n",
    "Joining will be performed on index. Join operation honors the object on which it is called. So, a.join(b) is not equal to b.join(a)."
   ]
  },
  {
   "cell_type": "code",
   "execution_count": 25,
   "id": "8951d43f",
   "metadata": {},
   "outputs": [
    {
     "name": "stdout",
     "output_type": "stream",
     "text": [
      "   id_x  Name_x subject_id  id_y Name_y\n",
      "0     2     Amy       sub2     1  Billy\n",
      "1     3   Allen       sub4     2  Brian\n",
      "2     4   Alice       sub6     4  Bryce\n",
      "3     5  Ayoung       sub5     5  Betty\n"
     ]
    }
   ],
   "source": [
    "import pandas as pd\n",
    "left = pd.DataFrame({\n",
    "   'id':[1,2,3,4,5],\n",
    "   'Name': ['Alex', 'Amy', 'Allen', 'Alice', 'Ayoung'],\n",
    "   'subject_id':['sub1','sub2','sub4','sub6','sub5']})\n",
    "right = pd.DataFrame({\n",
    "   'id':[1,2,3,4,5],\n",
    "   'Name': ['Billy', 'Brian', 'Bran', 'Bryce', 'Betty'],\n",
    "   'subject_id':['sub2','sub4','sub3','sub6','sub5']})\n",
    "print (pd.merge(left, right, on='subject_id', how='inner'))"
   ]
  },
  {
   "cell_type": "markdown",
   "id": "123b1a75",
   "metadata": {},
   "source": [
    "## Python Pandas - Concatenation\n",
    "Pandas provides various facilities for easily combining together Series, DataFrame, and Panel objects.\n",
    "\n",
    " pd.concat(objs,axis=0,join='outer',join_axes=None,\n",
    "ignore_index=False)\n",
    "objs − This is a sequence or mapping of Series, DataFrame, or Panel objects.\n",
    "\n",
    "axis − {0, 1, ...}, default 0. This is the axis to concatenate along.\n",
    "\n",
    "join − {‘inner’, ‘outer’}, default ‘outer’. How to handle indexes on other axis(es). Outer for union and inner for intersection.\n",
    "\n",
    "ignore_index − boolean, default False. If True, do not use the index values on the concatenation axis. The resulting axis will be labeled 0, ..., n - 1.\n",
    "\n",
    "join_axes − This is the list of Index objects. Specific indexes to use for the other (n-1) axes instead of performing inner/outer set logic."
   ]
  },
  {
   "cell_type": "markdown",
   "id": "b284e329",
   "metadata": {},
   "source": [
    "### Concatenating Objects\n",
    "The concat function does all of the heavy lifting of performing concatenation operations along an axis. Let us create different objects and do concatenation."
   ]
  },
  {
   "cell_type": "code",
   "execution_count": 26,
   "id": "bf9d2827",
   "metadata": {},
   "outputs": [
    {
     "name": "stdout",
     "output_type": "stream",
     "text": [
      "     Name subject_id  Marks_scored\n",
      "1    Alex       sub1            98\n",
      "2     Amy       sub2            90\n",
      "3   Allen       sub4            87\n",
      "4   Alice       sub6            69\n",
      "5  Ayoung       sub5            78\n",
      "1   Billy       sub2            89\n",
      "2   Brian       sub4            80\n",
      "3    Bran       sub3            79\n",
      "4   Bryce       sub6            97\n",
      "5   Betty       sub5            88\n"
     ]
    }
   ],
   "source": [
    "import pandas as pd\n",
    "\n",
    "one = pd.DataFrame({\n",
    "   'Name': ['Alex', 'Amy', 'Allen', 'Alice', 'Ayoung'],\n",
    "   'subject_id':['sub1','sub2','sub4','sub6','sub5'],\n",
    "   'Marks_scored':[98,90,87,69,78]},\n",
    "   index=[1,2,3,4,5])\n",
    "\n",
    "two = pd.DataFrame({\n",
    "   'Name': ['Billy', 'Brian', 'Bran', 'Bryce', 'Betty'],\n",
    "   'subject_id':['sub2','sub4','sub3','sub6','sub5'],\n",
    "   'Marks_scored':[89,80,79,97,88]},\n",
    "   index=[1,2,3,4,5])\n",
    "print (pd.concat([one,two]))\n"
   ]
  },
  {
   "cell_type": "markdown",
   "id": "79689768",
   "metadata": {},
   "source": [
    "### Concatenating Using append\n",
    "A useful shortcut to concat are the append instance methods on Series and DataFrame. These methods actually predated concat. They concatenate along axis=0, namely the index −"
   ]
  },
  {
   "cell_type": "code",
   "execution_count": 27,
   "id": "d7ec0966",
   "metadata": {},
   "outputs": [
    {
     "name": "stdout",
     "output_type": "stream",
     "text": [
      "     Name subject_id  Marks_scored\n",
      "1    Alex       sub1            98\n",
      "2     Amy       sub2            90\n",
      "3   Allen       sub4            87\n",
      "4   Alice       sub6            69\n",
      "5  Ayoung       sub5            78\n",
      "1   Billy       sub2            89\n",
      "2   Brian       sub4            80\n",
      "3    Bran       sub3            79\n",
      "4   Bryce       sub6            97\n",
      "5   Betty       sub5            88\n"
     ]
    },
    {
     "name": "stderr",
     "output_type": "stream",
     "text": [
      "C:\\Users\\Lenovo\\AppData\\Local\\Temp\\ipykernel_11704\\931723838.py:14: FutureWarning: The frame.append method is deprecated and will be removed from pandas in a future version. Use pandas.concat instead.\n",
      "  print(one.append(two))\n"
     ]
    }
   ],
   "source": [
    "import pandas as pd\n",
    "\n",
    "one = pd.DataFrame({\n",
    "   'Name': ['Alex', 'Amy', 'Allen', 'Alice', 'Ayoung'],\n",
    "   'subject_id':['sub1','sub2','sub4','sub6','sub5'],\n",
    "   'Marks_scored':[98,90,87,69,78]},\n",
    "   index=[1,2,3,4,5])\n",
    "\n",
    "two = pd.DataFrame({\n",
    "   'Name': ['Billy', 'Brian', 'Bran', 'Bryce', 'Betty'],\n",
    "   'subject_id':['sub2','sub4','sub3','sub6','sub5'],\n",
    "   'Marks_scored':[89,80,79,97,88]},\n",
    "   index=[1,2,3,4,5])\n",
    "print(one.append(two))"
   ]
  },
  {
   "cell_type": "markdown",
   "id": "77d77bd6",
   "metadata": {},
   "source": [
    "### Time Series\n",
    "Pandas provide a robust tool for working time with Time series data, especially in the financial sector. While working with time series data, we frequently come across the following −\n",
    "\n",
    "Generating sequence of time\n",
    "Convert the time series to different frequencies\n"
   ]
  },
  {
   "cell_type": "markdown",
   "id": "136089a2",
   "metadata": {},
   "source": [
    "### Get Current Time\n",
    "datetime.now() gives you the current date and time"
   ]
  },
  {
   "cell_type": "code",
   "execution_count": 28,
   "id": "4b86336d",
   "metadata": {},
   "outputs": [
    {
     "name": "stdout",
     "output_type": "stream",
     "text": [
      "2023-04-18 01:38:07.405732\n"
     ]
    },
    {
     "name": "stderr",
     "output_type": "stream",
     "text": [
      "C:\\Users\\Lenovo\\AppData\\Local\\Temp\\ipykernel_11704\\2890748025.py:3: FutureWarning: The pandas.datetime class is deprecated and will be removed from pandas in a future version. Import from datetime module instead.\n",
      "  print (pd.datetime.now())\n"
     ]
    }
   ],
   "source": [
    "import pandas as pd\n",
    "\n",
    "print (pd.datetime.now())"
   ]
  },
  {
   "cell_type": "markdown",
   "id": "097c37d8",
   "metadata": {},
   "source": [
    "### Create a TimeStamp\n",
    "Time-stamped data is the most basic type of timeseries data that associates values with points in time. For pandas objects, it means using the points in time. Let’s take an example −\n",
    "\n"
   ]
  },
  {
   "cell_type": "code",
   "execution_count": 29,
   "id": "38d8254f",
   "metadata": {},
   "outputs": [
    {
     "name": "stdout",
     "output_type": "stream",
     "text": [
      "2017-03-01 00:00:00\n"
     ]
    }
   ],
   "source": [
    "import pandas as pd\n",
    "\n",
    "print (pd.Timestamp('2017-03-01'))\n"
   ]
  },
  {
   "cell_type": "markdown",
   "id": "7651278a",
   "metadata": {},
   "source": [
    "## Python Pandas - Date Functionality\n",
    "\n",
    "\n",
    "Extending the Time series, Date functionalities play major role in financial data analysis. While working with Date data, we will frequently come across the following −\n",
    "\n",
    "Generating sequence of dates\n",
    "Convert the date series to different frequencies\n",
    "### Create a Range of Dates\n",
    "Using the date.range() function by specifying the periods and the frequency, we can create the date series. By default, the frequency of range is Days."
   ]
  },
  {
   "cell_type": "code",
   "execution_count": 30,
   "id": "d58f451f",
   "metadata": {},
   "outputs": [
    {
     "name": "stdout",
     "output_type": "stream",
     "text": [
      "DatetimeIndex(['2011-01-01', '2011-01-02', '2011-01-03', '2011-01-04',\n",
      "               '2011-01-05'],\n",
      "              dtype='datetime64[ns]', freq='D')\n"
     ]
    }
   ],
   "source": [
    "import pandas as pd\n",
    "\n",
    "print (pd.date_range('1/1/2011', periods=5))\n"
   ]
  },
  {
   "cell_type": "markdown",
   "id": "87577bbc",
   "metadata": {},
   "source": [
    "### Change the Date Frequency\n"
   ]
  },
  {
   "cell_type": "code",
   "execution_count": 32,
   "id": "66147e01",
   "metadata": {},
   "outputs": [
    {
     "name": "stdout",
     "output_type": "stream",
     "text": [
      "DatetimeIndex(['2011-01-31', '2011-02-28', '2011-03-31', '2011-04-30',\n",
      "               '2011-05-31'],\n",
      "              dtype='datetime64[ns]', freq='M')\n"
     ]
    }
   ],
   "source": [
    "import pandas as pd\n",
    "\n",
    "print (pd.date_range('1/1/2011', periods=5,freq='M'))"
   ]
  },
  {
   "cell_type": "markdown",
   "id": "a0dba1fb",
   "metadata": {},
   "source": [
    "## Python Pandas - Timedelta"
   ]
  },
  {
   "cell_type": "markdown",
   "id": "5fc54eb9",
   "metadata": {},
   "source": [
    "Timedeltas are differences in times, expressed in difference units, for example, days, hours, minutes, seconds. They can be both positive and negative.\n",
    "\n",
    "We can create Timedelta objects using various arguments as shown below −\n",
    "\n",
    "### String\n",
    "By passing a string literal, we can create a timedelta object."
   ]
  },
  {
   "cell_type": "code",
   "execution_count": 33,
   "id": "70e60244",
   "metadata": {},
   "outputs": [
    {
     "name": "stdout",
     "output_type": "stream",
     "text": [
      "2 days 02:15:30\n"
     ]
    }
   ],
   "source": [
    "import pandas as pd\n",
    "\n",
    "print (pd.Timedelta('2 days 2 hours 15 minutes 30 seconds'))"
   ]
  },
  {
   "cell_type": "markdown",
   "id": "7808acf1",
   "metadata": {},
   "source": [
    "### Integer\n",
    "By passing an integer value with the unit, an argument creates a Timedelta object."
   ]
  },
  {
   "cell_type": "code",
   "execution_count": 34,
   "id": "95a65465",
   "metadata": {},
   "outputs": [
    {
     "name": "stdout",
     "output_type": "stream",
     "text": [
      "0 days 06:00:00\n"
     ]
    }
   ],
   "source": [
    "import pandas as pd\n",
    "\n",
    "print (pd.Timedelta(6,unit='h'))"
   ]
  },
  {
   "cell_type": "markdown",
   "id": "12411ac7",
   "metadata": {},
   "source": [
    "### Data Offsets\n",
    "Data offsets such as - weeks, days, hours, minutes, seconds, milliseconds, microseconds, nanoseconds can also be used in construction."
   ]
  },
  {
   "cell_type": "code",
   "execution_count": 35,
   "id": "5f75744a",
   "metadata": {},
   "outputs": [
    {
     "name": "stdout",
     "output_type": "stream",
     "text": [
      "2 days 00:00:00\n"
     ]
    }
   ],
   "source": [
    "import pandas as pd\n",
    "\n",
    "print (pd.Timedelta(days=2))\n"
   ]
  },
  {
   "cell_type": "markdown",
   "id": "341461f4",
   "metadata": {},
   "source": [
    "### to_timedelta()\n",
    "Using the top-level pd.to_timedelta, you can convert a scalar, array, list, or series from a recognized timedelta format/ value into a Timedelta type. It will construct Series if the input is a Series, a scalar if the input is scalar-like, otherwise will output a TimedeltaIndex."
   ]
  },
  {
   "cell_type": "code",
   "execution_count": 36,
   "id": "2f6614cf",
   "metadata": {},
   "outputs": [
    {
     "name": "stdout",
     "output_type": "stream",
     "text": [
      "2 days 00:00:00\n"
     ]
    }
   ],
   "source": [
    "import pandas as pd\n",
    "\n",
    "print (pd.Timedelta(days=2))\n"
   ]
  },
  {
   "cell_type": "markdown",
   "id": "a126a6da",
   "metadata": {},
   "source": [
    "## Python Pandas - Categorical Data\n",
    "\n",
    "\n",
    "\n",
    "Often in real-time, data includes the text columns, which are repetitive. Features like gender, country, and codes are always repetitive. These are the examples for categorical data.\n",
    "\n",
    "Categorical variables can take on only a limited, and usually fixed number of possible values. Besides the fixed length, categorical data might have an order but cannot perform numerical operation. Categorical are a Pandas data type.\n",
    "\n",
    "\n",
    "### Object Creation\n",
    "Categorical object can be created in multiple ways. The different ways have been described below −\n",
    "\n",
    "category\n",
    "By specifying the dtype as \"category\" in pandas object creation"
   ]
  },
  {
   "cell_type": "code",
   "execution_count": 37,
   "id": "7f9bef0e",
   "metadata": {},
   "outputs": [
    {
     "name": "stdout",
     "output_type": "stream",
     "text": [
      "0    a\n",
      "1    b\n",
      "2    c\n",
      "3    a\n",
      "dtype: category\n",
      "Categories (3, object): ['a', 'b', 'c']\n"
     ]
    }
   ],
   "source": [
    "import pandas as pd\n",
    "\n",
    "s = pd.Series([\"a\",\"b\",\"c\",\"a\"], dtype=\"category\")\n",
    "print(s)\n"
   ]
  },
  {
   "cell_type": "markdown",
   "id": "945a62b4",
   "metadata": {},
   "source": [
    "### pd.Categorical\n",
    "Using the standard pandas Categorical constructor, we can create a category object.\n",
    "\n",
    "pandas.Categorical(values, categories, ordered)"
   ]
  },
  {
   "cell_type": "code",
   "execution_count": 38,
   "id": "6385d467",
   "metadata": {},
   "outputs": [
    {
     "name": "stdout",
     "output_type": "stream",
     "text": [
      "['a', 'b', 'c', 'a', 'b', 'c']\n",
      "Categories (3, object): ['a', 'b', 'c']\n"
     ]
    }
   ],
   "source": [
    "import pandas as pd\n",
    "\n",
    "cat = pd.Categorical(['a', 'b', 'c', 'a', 'b', 'c'])\n",
    "print (cat)\n"
   ]
  },
  {
   "cell_type": "markdown",
   "id": "b365b6df",
   "metadata": {},
   "source": [
    "### Description\n",
    "Using the .describe() command on the categorical data, we get similar output to a Series or DataFrame of the type string."
   ]
  },
  {
   "cell_type": "code",
   "execution_count": 40,
   "id": "19f7b16d",
   "metadata": {},
   "outputs": [
    {
     "name": "stdout",
     "output_type": "stream",
     "text": [
      "       cat  s\n",
      "count    3  3\n",
      "unique   2  2\n",
      "top      c  c\n",
      "freq     2  2\n",
      "count     3\n",
      "unique    2\n",
      "top       c\n",
      "freq      2\n",
      "Name: cat, dtype: object\n"
     ]
    }
   ],
   "source": [
    "import pandas as pd\n",
    "import numpy as np\n",
    "\n",
    "cat = pd.Categorical([\"a\", \"c\", \"c\", np.nan], categories=[\"b\", \"a\", \"c\"])\n",
    "df = pd.DataFrame({\"cat\":cat, \"s\":[\"a\", \"c\", \"c\", np.nan]})\n",
    "\n",
    "print (df.describe())\n",
    "print (df[\"cat\"].describe())\n"
   ]
  },
  {
   "cell_type": "markdown",
   "id": "fc1991ca",
   "metadata": {},
   "source": [
    "### Removing Categories\n",
    "Using the Categorical.remove_categories() method, unwanted categories can be removed."
   ]
  },
  {
   "cell_type": "code",
   "execution_count": 41,
   "id": "ce6aeb16",
   "metadata": {},
   "outputs": [
    {
     "name": "stdout",
     "output_type": "stream",
     "text": [
      "Original object:\n",
      "0    a\n",
      "1    b\n",
      "2    c\n",
      "3    a\n",
      "dtype: category\n",
      "Categories (3, object): ['a', 'b', 'c']\n",
      "After removal:\n",
      "0    NaN\n",
      "1      b\n",
      "2      c\n",
      "3    NaN\n",
      "dtype: category\n",
      "Categories (2, object): ['b', 'c']\n"
     ]
    }
   ],
   "source": [
    "import pandas as pd\n",
    "\n",
    "s = pd.Series([\"a\",\"b\",\"c\",\"a\"], dtype=\"category\")\n",
    "print (\"Original object:\")\n",
    "print (s)\n",
    "\n",
    "print (\"After removal:\")\n",
    "print (s.cat.remove_categories(\"a\"))"
   ]
  },
  {
   "cell_type": "markdown",
   "id": "8a2434e5",
   "metadata": {},
   "source": [
    "## Python Pandas - Visualization"
   ]
  },
  {
   "cell_type": "markdown",
   "id": "bd4b156e",
   "metadata": {},
   "source": [
    "### Basic Plotting: plot\n",
    "This functionality on Series and DataFrame is just a simple wrapper around the matplotlib libraries plot() method."
   ]
  },
  {
   "cell_type": "code",
   "execution_count": 42,
   "id": "96e76d03",
   "metadata": {},
   "outputs": [
    {
     "data": {
      "text/plain": [
       "<AxesSubplot:>"
      ]
     },
     "execution_count": 42,
     "metadata": {},
     "output_type": "execute_result"
    },
    {
     "data": {
      "image/png": "[encoded data removed]",
      "text/plain": [
       "<Figure size 640x480 with 1 Axes>"
      ]
     },
     "metadata": {},
     "output_type": "display_data"
    }
   ],
   "source": [
    "import pandas as pd\n",
    "import numpy as np\n",
    "\n",
    "df = pd.DataFrame(np.random.randn(10,4),index=pd.date_range('1/1/2000',\n",
    "   periods=10), columns=list('ABCD'))\n",
    "\n",
    "df.plot()\n"
   ]
  },
  {
   "cell_type": "markdown",
   "id": "1b14617e",
   "metadata": {},
   "source": [
    "### Bar Plot\n",
    "Let us now see what a Bar Plot is by creating one. A bar plot can be created in the following way −"
   ]
  },
  {
   "cell_type": "code",
   "execution_count": 44,
   "id": "0b36a796",
   "metadata": {},
   "outputs": [
    {
     "data": {
      "text/plain": [
       "<AxesSubplot:>"
      ]
     },
     "execution_count": 44,
     "metadata": {},
     "output_type": "execute_result"
    },
    {
     "data": {
      "image/png": "[encoded data removed]",
      "text/plain": [
       "<Figure size 640x480 with 1 Axes>"
      ]
     },
     "metadata": {},
     "output_type": "display_data"
    }
   ],
   "source": [
    "import pandas as pd\n",
    "import numpy as np\n",
    "\n",
    "df = pd.DataFrame(np.random.rand(10,4),columns=['a','b','c','d'])\n",
    "df.plot.bar()\n"
   ]
  },
  {
   "cell_type": "markdown",
   "id": "8f9d7018",
   "metadata": {},
   "source": [
    "### Histograms\n",
    "Histograms can be plotted using the plot.hist() method. We can specify number of bins.\n",
    "\n"
   ]
  },
  {
   "cell_type": "code",
   "execution_count": 45,
   "id": "c16d9bb2",
   "metadata": {},
   "outputs": [
    {
     "data": {
      "text/plain": [
       "<AxesSubplot:ylabel='Frequency'>"
      ]
     },
     "execution_count": 45,
     "metadata": {},
     "output_type": "execute_result"
    },
    {
     "data": {
      "image/png": "[encoded data removed]",
      "text/plain": [
       "<Figure size 640x480 with 1 Axes>"
      ]
     },
     "metadata": {},
     "output_type": "display_data"
    }
   ],
   "source": [
    "import pandas as pd\n",
    "import numpy as np\n",
    "\n",
    "df = pd.DataFrame({'a':np.random.randn(1000)+1,'b':np.random.randn(1000),'c':\n",
    "np.random.randn(1000) - 1}, columns=['a', 'b', 'c'])\n",
    "\n",
    "df.plot.hist(bins=20)\n"
   ]
  },
  {
   "cell_type": "markdown",
   "id": "62f3b99b",
   "metadata": {},
   "source": [
    "### Box Plots\n",
    "Boxplot can be drawn calling Series.box.plot() and DataFrame.box.plot(), or DataFrame.boxplot() to visualize the distribution of values within each column.\n",
    "\n",
    "For instance, here is a boxplot representing five trials of 10 observations of a uniform random variable on [0,1).\n",
    "\n"
   ]
  },
  {
   "cell_type": "code",
   "execution_count": 46,
   "id": "85323c4e",
   "metadata": {},
   "outputs": [
    {
     "data": {
      "text/plain": [
       "<AxesSubplot:>"
      ]
     },
     "execution_count": 46,
     "metadata": {},
     "output_type": "execute_result"
    },
    {
     "data": {
      "image/png": "[encoded data removed]",
      "text/plain": [
       "<Figure size 640x480 with 1 Axes>"
      ]
     },
     "metadata": {},
     "output_type": "display_data"
    }
   ],
   "source": [
    "import pandas as pd\n",
    "import numpy as np\n",
    "df = pd.DataFrame(np.random.rand(10, 5), columns=['A', 'B', 'C', 'D', 'E'])\n",
    "df.plot.box()"
   ]
  },
  {
   "cell_type": "markdown",
   "id": "feb920ec",
   "metadata": {},
   "source": [
    "### Area Plot\n",
    "Area plot can be created using the Series.plot.area() or the DataFrame.plot.area() methods."
   ]
  },
  {
   "cell_type": "code",
   "execution_count": 47,
   "id": "d7959cb6",
   "metadata": {},
   "outputs": [
    {
     "data": {
      "text/plain": [
       "<AxesSubplot:>"
      ]
     },
     "execution_count": 47,
     "metadata": {},
     "output_type": "execute_result"
    },
    {
     "data": {
      "image/png": "[encoded data removed]",
      "text/plain": [
       "<Figure size 640x480 with 1 Axes>"
      ]
     },
     "metadata": {},
     "output_type": "display_data"
    }
   ],
   "source": [
    "import pandas as pd\n",
    "import numpy as np\n",
    "\n",
    "df = pd.DataFrame(np.random.rand(10, 4), columns=['a', 'b', 'c', 'd'])\n",
    "df.plot.area()\n"
   ]
  },
  {
   "cell_type": "markdown",
   "id": "cdc7ecc0",
   "metadata": {},
   "source": [
    "### Scatter Plot\n",
    "Scatter plot can be created using the DataFrame.plot.scatter() methods.\n",
    "\n"
   ]
  },
  {
   "cell_type": "code",
   "execution_count": 48,
   "id": "3b99477b",
   "metadata": {},
   "outputs": [
    {
     "data": {
      "text/plain": [
       "<AxesSubplot:xlabel='a', ylabel='b'>"
      ]
     },
     "execution_count": 48,
     "metadata": {},
     "output_type": "execute_result"
    },
    {
     "data": {
      "image/png": "[encoded data removed]",
      "text/plain": [
       "<Figure size 640x480 with 1 Axes>"
      ]
     },
     "metadata": {},
     "output_type": "display_data"
    }
   ],
   "source": [
    "import pandas as pd\n",
    "import numpy as np\n",
    "df = pd.DataFrame(np.random.rand(50, 4), columns=['a', 'b', 'c', 'd'])\n",
    "df.plot.scatter(x='a', y='b')\n"
   ]
  },
  {
   "cell_type": "markdown",
   "id": "d2bb564e",
   "metadata": {},
   "source": [
    "### Pie Chart\n",
    "Pie chart can be created using the DataFrame.plot.pie() method.\n",
    "\n"
   ]
  },
  {
   "cell_type": "code",
   "execution_count": 49,
   "id": "995953d3",
   "metadata": {},
   "outputs": [
    {
     "data": {
      "text/plain": [
       "array([<AxesSubplot:ylabel='x'>], dtype=object)"
      ]
     },
     "execution_count": 49,
     "metadata": {},
     "output_type": "execute_result"
    },
    {
     "data": {
      "image/png": "[encoded data removed]",
      "text/plain": [
       "<Figure size 640x480 with 1 Axes>"
      ]
     },
     "metadata": {},
     "output_type": "display_data"
    }
   ],
   "source": [
    "import pandas as pd\n",
    "import numpy as np\n",
    "\n",
    "df = pd.DataFrame(3 * np.random.rand(4), index=['a', 'b', 'c', 'd'], columns=['x'])\n",
    "df.plot.pie(subplots=True)\n"
   ]
  },
  {
   "cell_type": "markdown",
   "id": "cb34304d",
   "metadata": {},
   "source": [
    "## Python Pandas - IO Tools\n"
   ]
  },
  {
   "cell_type": "markdown",
   "id": "3c0e3a83",
   "metadata": {},
   "source": [
    "The Pandas I/O API is a set of top level reader functions accessed like pd.read_csv() that generally return a Pandas object"
   ]
  },
  {
   "cell_type": "code",
   "execution_count": 50,
   "id": "241f192c",
   "metadata": {},
   "outputs": [
    {
     "name": "stdout",
     "output_type": "stream",
     "text": [
      "       Year Industry_aggregation_NZSIOC Industry_code_NZSIOC  \\\n",
      "0      2021                     Level 1                99999   \n",
      "1      2021                     Level 1                99999   \n",
      "2      2021                     Level 1                99999   \n",
      "3      2021                     Level 1                99999   \n",
      "4      2021                     Level 1                99999   \n",
      "...     ...                         ...                  ...   \n",
      "41710  2013                     Level 3                 ZZ11   \n",
      "41711  2013                     Level 3                 ZZ11   \n",
      "41712  2013                     Level 3                 ZZ11   \n",
      "41713  2013                     Level 3                 ZZ11   \n",
      "41714  2013                     Level 3                 ZZ11   \n",
      "\n",
      "             Industry_name_NZSIOC               Units Variable_code  \\\n",
      "0                  All industries  Dollars (millions)           H01   \n",
      "1                  All industries  Dollars (millions)           H04   \n",
      "2                  All industries  Dollars (millions)           H05   \n",
      "3                  All industries  Dollars (millions)           H07   \n",
      "4                  All industries  Dollars (millions)           H08   \n",
      "...                           ...                 ...           ...   \n",
      "41710  Food product manufacturing          Percentage           H37   \n",
      "41711  Food product manufacturing          Percentage           H38   \n",
      "41712  Food product manufacturing          Percentage           H39   \n",
      "41713  Food product manufacturing          Percentage           H40   \n",
      "41714  Food product manufacturing          Percentage           H41   \n",
      "\n",
      "                                         Variable_name      Variable_category  \\\n",
      "0                                         Total income  Financial performance   \n",
      "1      Sales, government funding, grants and subsidies  Financial performance   \n",
      "2                    Interest, dividends and donations  Financial performance   \n",
      "3                                 Non-operating income  Financial performance   \n",
      "4                                    Total expenditure  Financial performance   \n",
      "...                                                ...                    ...   \n",
      "41710                                      Quick ratio       Financial ratios   \n",
      "41711              Margin on sales of goods for resale       Financial ratios   \n",
      "41712                                 Return on equity       Financial ratios   \n",
      "41713                           Return on total assets       Financial ratios   \n",
      "41714                            Liabilities structure       Financial ratios   \n",
      "\n",
      "         Value                             Industry_code_ANZSIC06  \n",
      "0      757,504  ANZSIC06 divisions A-S (excluding classes K633...  \n",
      "1      674,890  ANZSIC06 divisions A-S (excluding classes K633...  \n",
      "2       49,593  ANZSIC06 divisions A-S (excluding classes K633...  \n",
      "3       33,020  ANZSIC06 divisions A-S (excluding classes K633...  \n",
      "4      654,404  ANZSIC06 divisions A-S (excluding classes K633...  \n",
      "...        ...                                                ...  \n",
      "41710       52  ANZSIC06 groups C111, C112, C113, C114, C115, ...  \n",
      "41711       40  ANZSIC06 groups C111, C112, C113, C114, C115, ...  \n",
      "41712       12  ANZSIC06 groups C111, C112, C113, C114, C115, ...  \n",
      "41713        5  ANZSIC06 groups C111, C112, C113, C114, C115, ...  \n",
      "41714       46  ANZSIC06 groups C111, C112, C113, C114, C115, ...  \n",
      "\n",
      "[41715 rows x 10 columns]\n"
     ]
    }
   ],
   "source": [
    "import pandas as pd\n",
    "\n",
    "df=pd.read_csv(\"annual-enterprise-survey-2021-financial-year-provisional-csv.csv\")\n",
    "print (df)"
   ]
  },
  {
   "cell_type": "markdown",
   "id": "0c88a84f",
   "metadata": {},
   "source": [
    "## Python Pandas - Sparse Data\n",
    "\n",
    "\n",
    "Sparse objects are “compressed” when any data matching a specific value (NaN / missing value, though any value can be chosen) is omitted. A special SparseIndex object tracks where data has been “sparsified”. This will make much more sense in an example. All of the standard Pandas data structures apply the to_sparse method −\n",
    "\n",
    "\n"
   ]
  },
  {
   "cell_type": "markdown",
   "id": "b54e56b1",
   "metadata": {},
   "source": [
    "### Sparse Dtypes\n",
    "Sparse data should have the same dtype as its dense representation. Currently, float64, int64 and booldtypes are supported. Depending on the original dtype, fill_value default changes −\n",
    "\n",
    "float64 − np.nan\n",
    "\n",
    "int64 − 0\n",
    "\n",
    "bool − False\n"
   ]
  },
  {
   "cell_type": "code",
   "execution_count": null,
   "id": "dea14cc2",
   "metadata": {},
   "outputs": [],
   "source": []
  },
  {
   "cell_type": "code",
   "execution_count": null,
   "id": "82194cd5",
   "metadata": {},
   "outputs": [],
   "source": []
  }
 ],
 "metadata": {
  "kernelspec": {
   "display_name": "Python 3 (ipykernel)",
   "language": "python",
   "name": "python3"
  },
  "language_info": {
   "codemirror_mode": {
    "name": "ipython",
    "version": 3
   },
   "file_extension": ".py",
   "mimetype": "text/x-python",
   "name": "python",
   "nbconvert_exporter": "python",
   "pygments_lexer": "ipython3",
   "version": "3.9.13"
  }
 },
 "nbformat": 4,
 "nbformat_minor": 5
}
