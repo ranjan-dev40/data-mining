{
 "cells": [
  {
   "cell_type": "markdown",
   "id": "2b340861",
   "metadata": {},
   "source": [
    "#### Introduction\n",
    "NumPy is a Python package. It stands for 'Numerical Python'. It is a library consisting of multidimensional array objects and a collection of routines for processing of array.\n",
    "\n",
    "Numeric, the ancestor of NumPy, was developed by Jim Hugunin. Another package Numarray was also developed, having some additional functionalities. In 2005, Travis Oliphant created NumPy package by incorporating the features of Numarray into Numeric package. There are many contributors to this open source project.\n",
    "\n",
    "Operations using NumPy\n",
    "#### Using NumPy, a developer can perform the following operations −\n",
    "\n",
    "Mathematical and logical operations on arrays.\n",
    "\n",
    "Fourier transforms and routines for shape manipulation.\n",
    "\n",
    "Operations related to linear algebra. NumPy has in-built functions for linear algebra and random number generation."
   ]
  },
  {
   "cell_type": "markdown",
   "id": "32725b07",
   "metadata": {},
   "source": [
    "#### Data type\n",
    "NumPy supports a much greater variety of numerical types than Python does. The following table shows different scalar data types defined in NumPy."
   ]
  },
  {
   "cell_type": "markdown",
   "id": "aa90b383",
   "metadata": {},
   "source": [
    "#### 1\t\n",
    "bool_\n",
    "\n",
    "Boolean (True or False) stored as a byte\n",
    "\n",
    "#### 2\t\n",
    "int_\n",
    "\n",
    "Default integer type (same as C long; normally either int64 or int32)\n",
    "\n",
    "#### 3\t\n",
    "intc\n",
    "\n",
    "Identical to C int (normally int32 or int64)\n",
    "\n",
    "#### 4\t\n",
    "intp\n",
    "\n",
    "Integer used for indexing (same as C ssize_t; normally either int32 or int64)\n",
    "\n",
    "#### 5\t\n",
    "int8\n",
    "\n",
    "Byte (-128 to 127)\n",
    "\n",
    "#### 6\t\n",
    "int16\n",
    "\n",
    "Integer (-32768 to 32767)\n",
    "\n",
    "#### 7\t\n",
    "int32\n",
    "\n",
    "Integer (-2147483648 to 2147483647)\n",
    "\n",
    "#### 8\t\n",
    "int64\n",
    "\n",
    "Integer (-9223372036854775808 to 9223372036854775807)\n",
    "\n",
    "#### 9\t\n",
    "uint8\n",
    "\n",
    "Unsigned integer (0 to 255)\n",
    "\n",
    "#### 10\t\n",
    "uint16\n",
    "\n",
    "Unsigned integer (0 to 65535)\n",
    "\n",
    "#### 11\t\n",
    "uint32\n",
    "\n",
    "Unsigned integer (0 to 4294967295)\n",
    "\n",
    "#### 12\t\n",
    "uint64\n",
    "\n",
    "Unsigned integer (0 to 18446744073709551615)\n",
    "\n",
    "#### 13\t\n",
    "float_\n",
    "\n",
    "Shorthand for float64\n",
    "\n",
    "#### 14\t\n",
    "float16\n",
    "\n",
    "Half precision float: sign bit, 5 bits exponent, 10 bits mantissa\n",
    "\n",
    "#### 15\t\n",
    "float32\n",
    "\n",
    "Single precision float: sign bit, 8 bits exponent, 23 bits mantissa\n",
    "\n",
    "#### 16\t\n",
    "float64\n",
    "\n",
    "Double precision float: sign bit, 11 bits exponent, 52 bits mantissa"
   ]
  },
  {
   "cell_type": "markdown",
   "id": "3a1e052f",
   "metadata": {},
   "source": [
    "### Example"
   ]
  },
  {
   "cell_type": "code",
   "execution_count": 2,
   "id": "5833efae",
   "metadata": {},
   "outputs": [
    {
     "name": "stdout",
     "output_type": "stream",
     "text": [
      "Requirement already satisfied: numpy in c:\\users\\lenovo\\anaconda3\\lib\\site-packages (1.21.5)\n",
      "Note: you may need to restart the kernel to use updated packages.\n"
     ]
    }
   ],
   "source": [
    "pip install numpy"
   ]
  },
  {
   "cell_type": "code",
   "execution_count": 6,
   "id": "10b09824",
   "metadata": {},
   "outputs": [
    {
     "name": "stdout",
     "output_type": "stream",
     "text": [
      "int32\n"
     ]
    }
   ],
   "source": [
    "# using array-scalar type \n",
    "import numpy as np \n",
    "dt = np.dtype(np.int32) \n",
    "print(dt)"
   ]
  },
  {
   "cell_type": "markdown",
   "id": "f36210cc",
   "metadata": {},
   "source": [
    "## NumPy - Array Attributes"
   ]
  },
  {
   "cell_type": "markdown",
   "id": "e2065835",
   "metadata": {},
   "source": [
    "### ndarray.shape\n",
    "This array attribute returns a tuple consisting of array dimensions. It can also be used to resize the array.\n",
    "\n",
    "#### Example 1"
   ]
  },
  {
   "cell_type": "code",
   "execution_count": 7,
   "id": "74b197de",
   "metadata": {},
   "outputs": [
    {
     "name": "stdout",
     "output_type": "stream",
     "text": [
      "(2, 3)\n"
     ]
    }
   ],
   "source": [
    "import numpy as np \n",
    "a = np.array([[1,2,3],[4,5,6]]) \n",
    "print (a.shape)"
   ]
  },
  {
   "cell_type": "code",
   "execution_count": null,
   "id": "274b030f",
   "metadata": {},
   "outputs": [
    {
     "name": "stdout",
     "output_type": "stream",
     "text": [
      "[[1 2]\n",
      " [3 4]\n",
      " [5 6]]\n"
     ]
    }
   ],
   "source": [
    "# this resizes the ndarray \n",
    "import numpy as np \n",
    "\n",
    "a = np.array([[1,2,3],[4,5,6]]) \n",
    "\n",
    "a.shape = (3,2) \n",
    "print(a)"
   ]
  },
  {
   "cell_type": "markdown",
   "id": "7e1c733d",
   "metadata": {},
   "source": [
    "### ndarray.ndim\n",
    "This array attribute returns the number of array dimensions."
   ]
  },
  {
   "cell_type": "code",
   "execution_count": 10,
   "id": "1b7b8cc6",
   "metadata": {},
   "outputs": [
    {
     "name": "stdout",
     "output_type": "stream",
     "text": [
      "[ 0  1  2  3  4  5  6  7  8  9 10 11 12 13 14 15 16 17 18 19 20 21 22 23]\n"
     ]
    }
   ],
   "source": [
    "# an array of evenly spaced numbers \n",
    "import numpy as np \n",
    "a = np.arange(24) \n",
    "print (a)"
   ]
  },
  {
   "cell_type": "markdown",
   "id": "39a0b9e9",
   "metadata": {},
   "source": [
    "### numpy.itemsize\n",
    "This array attribute returns the length of each element of array in bytes"
   ]
  },
  {
   "cell_type": "code",
   "execution_count": 12,
   "id": "3d2ba5de",
   "metadata": {},
   "outputs": [
    {
     "name": "stdout",
     "output_type": "stream",
     "text": [
      "1\n"
     ]
    }
   ],
   "source": [
    "# dtype of array is int8 (1 byte) \n",
    "import numpy as np \n",
    "x = np.array([1,2,3,4,5], dtype = np.int8) \n",
    "print (x.itemsize)"
   ]
  },
  {
   "cell_type": "markdown",
   "id": "68d2e0ff",
   "metadata": {},
   "source": [
    "## NumPy - Array Creation \n",
    "A new ndarray object can be constructed by any of the following array creation routines or using a low-level ndarray constructor.\n",
    "\n",
    "### numpy.empty\n",
    "It creates an uninitialized array of specified shape and dtype. It uses the following constructor −\n",
    "\n",
    "numpy.empty(shape, dtype = float, order = 'C')"
   ]
  },
  {
   "cell_type": "code",
   "execution_count": 14,
   "id": "7385368a",
   "metadata": {},
   "outputs": [
    {
     "name": "stdout",
     "output_type": "stream",
     "text": [
      "[[1 2]\n",
      " [3 4]\n",
      " [5 6]]\n"
     ]
    }
   ],
   "source": [
    "import numpy as np \n",
    "x = np.empty([3,2], dtype = int) \n",
    "print(x)"
   ]
  },
  {
   "cell_type": "markdown",
   "id": "38bb39b2",
   "metadata": {},
   "source": [
    "### numpy.zeros\n",
    "Returns a new array of specified size, filled with zeros.\n",
    "\n",
    "numpy.zeros(shape, dtype = float, order = 'C')"
   ]
  },
  {
   "cell_type": "code",
   "execution_count": 15,
   "id": "f381484b",
   "metadata": {},
   "outputs": [
    {
     "name": "stdout",
     "output_type": "stream",
     "text": [
      "[0. 0. 0. 0. 0.]\n"
     ]
    }
   ],
   "source": [
    "# array of five zeros. Default dtype is float \n",
    "import numpy as np \n",
    "x = np.zeros(5) \n",
    "print(x)"
   ]
  },
  {
   "cell_type": "markdown",
   "id": "7983fbc5",
   "metadata": {},
   "source": [
    "## NumPy - Indexing & Slicing"
   ]
  },
  {
   "cell_type": "markdown",
   "id": "8fde5de5",
   "metadata": {},
   "source": [
    " items in ndarray object follows zero-based index. Three types of indexing methods are available − field access, basic slicing and advanced indexing.\n",
    "\n",
    "Basic slicing is an extension of Python's basic concept of slicing to n dimensions. A Python slice object is constructed by giving start, stop, and step parameters to the built-in slice function. This slice object is passed to the array to extract a part of array."
   ]
  },
  {
   "cell_type": "code",
   "execution_count": 16,
   "id": "02ef6fd4",
   "metadata": {},
   "outputs": [
    {
     "name": "stdout",
     "output_type": "stream",
     "text": [
      "[2 4 6]\n"
     ]
    }
   ],
   "source": [
    "import numpy as np \n",
    "a = np.arange(10) \n",
    "s = slice(2,7,2) \n",
    "print(a[s])"
   ]
  },
  {
   "cell_type": "code",
   "execution_count": 19,
   "id": "bfea4d98",
   "metadata": {},
   "outputs": [
    {
     "name": "stdout",
     "output_type": "stream",
     "text": [
      "[2 4 6]\n"
     ]
    }
   ],
   "source": [
    "\n",
    "# 2 se 7 ke bich ka number 2 ke diffrence pe print karega\n",
    "import numpy as np \n",
    "a = np.arange(10) \n",
    "b = a[2:7:2] \n",
    "print(b)"
   ]
  },
  {
   "cell_type": "code",
   "execution_count": 22,
   "id": "933e20b1",
   "metadata": {},
   "outputs": [
    {
     "name": "stdout",
     "output_type": "stream",
     "text": [
      "[ 5  6  7  8  9 10 11 12 13 14 15 16 17 18 19]\n",
      "[ 2  5  8 11 14 17]\n"
     ]
    }
   ],
   "source": [
    "import numpy as np \n",
    "a = np.arange(20)\n",
    "\n",
    "#  5 se laekae 20 tak value print karega\n",
    "print (a[5:])\n",
    "\n",
    "#  2 se laekae 20 tak value print karega 3 ke diffrence ke sath\n",
    "print (a[2: :3])\n"
   ]
  },
  {
   "cell_type": "markdown",
   "id": "32234f63",
   "metadata": {},
   "source": [
    "## NumPy - Broadcasting\n",
    "\n",
    "The term broadcasting refers to the ability of NumPy to treat arrays of different shapes during arithmetic operations. Arithmetic operations on arrays are usually done on corresponding elements. If two arrays are of exactly the same shape, then these operations are smoothly performed.\n",
    "\n"
   ]
  },
  {
   "cell_type": "code",
   "execution_count": 24,
   "id": "17d4be70",
   "metadata": {},
   "outputs": [
    {
     "name": "stdout",
     "output_type": "stream",
     "text": [
      "[ 10  40  90 160]\n"
     ]
    }
   ],
   "source": [
    "import numpy as np \n",
    "\n",
    "a = np.array([1,2,3,4]) \n",
    "b = np.array([10,20,30,40]) \n",
    "c = a * b \n",
    "print(c)"
   ]
  },
  {
   "cell_type": "code",
   "execution_count": 26,
   "id": "46dc69bd",
   "metadata": {},
   "outputs": [
    {
     "name": "stdout",
     "output_type": "stream",
     "text": [
      "First array:\n",
      "[[ 0.  0.  0.]\n",
      " [10. 10. 10.]\n",
      " [20. 20. 20.]\n",
      " [30. 30. 30.]]\n",
      "Second array:\n",
      "[1. 2. 3.]\n",
      "First Array + Second Array\n",
      "[[ 1.  2.  3.]\n",
      " [11. 12. 13.]\n",
      " [21. 22. 23.]\n",
      " [31. 32. 33.]]\n"
     ]
    }
   ],
   "source": [
    "import numpy as np \n",
    "a = np.array([[0.0,0.0,0.0],[10.0,10.0,10.0],[20.0,20.0,20.0],[30.0,30.0,30.0]]) \n",
    "b = np.array([1.0,2.0,3.0])  \n",
    "   \n",
    "print( 'First array:') \n",
    "print (a) \n",
    "   \n",
    "print ('Second array:' )\n",
    "print(b) \n",
    "   \n",
    "print ('First Array + Second Array' )\n",
    "print (a + b)"
   ]
  },
  {
   "cell_type": "markdown",
   "id": "6f5c31c1",
   "metadata": {},
   "source": [
    "## NumPy - Iterating Over Array\n",
    "NumPy package contains an iterator object numpy.nditer. It is an efficient multidimensional iterator object using which it is possible to iterate over an array. Each element of an array is visited using Python’s standard Iterator interface.\n",
    "\n",
    "Let us create a 3X4 array using arange() function and iterate over it using nditer"
   ]
  },
  {
   "cell_type": "code",
   "execution_count": 27,
   "id": "73a6262a",
   "metadata": {},
   "outputs": [
    {
     "name": "stdout",
     "output_type": "stream",
     "text": [
      "Original array is:\n",
      "[[ 0  5 10 15]\n",
      " [20 25 30 35]\n",
      " [40 45 50 55]]\n",
      "\n",
      "\n",
      "Modified array is:\n",
      "0\n",
      "5\n",
      "10\n",
      "15\n",
      "20\n",
      "25\n",
      "30\n",
      "35\n",
      "40\n",
      "45\n",
      "50\n",
      "55\n"
     ]
    }
   ],
   "source": [
    "import numpy as np\n",
    "a = np.arange(0,60,5)\n",
    "a = a.reshape(3,4)\n",
    "\n",
    "print ('Original array is:')\n",
    "print (a)\n",
    "print ('\\n')\n",
    "\n",
    "print ('Modified array is:')\n",
    "for x in np.nditer(a):\n",
    "   print (x)"
   ]
  },
  {
   "cell_type": "markdown",
   "id": "8d707ad4",
   "metadata": {},
   "source": [
    "### Iteration Order\n",
    "If the same elements are stored using F-style order, the iterator chooses the more efficient way of iterating over an array.\n",
    "\n",
    "Example 1"
   ]
  },
  {
   "cell_type": "code",
   "execution_count": 28,
   "id": "9be3c363",
   "metadata": {},
   "outputs": [
    {
     "name": "stdout",
     "output_type": "stream",
     "text": [
      "Original array is:\n",
      "[[ 0  5 10 15]\n",
      " [20 25 30 35]\n",
      " [40 45 50 55]]\n",
      "\n",
      "\n",
      "Transpose of the original array is:\n",
      "[[ 0 20 40]\n",
      " [ 5 25 45]\n",
      " [10 30 50]\n",
      " [15 35 55]]\n",
      "\n",
      "\n",
      "Sorted in C-style order:\n",
      "[[ 0 20 40]\n",
      " [ 5 25 45]\n",
      " [10 30 50]\n",
      " [15 35 55]]\n",
      "0\n",
      "20\n",
      "40\n",
      "5\n",
      "25\n",
      "45\n",
      "10\n",
      "30\n",
      "50\n",
      "15\n",
      "35\n",
      "55\n",
      "\n",
      "\n",
      "Sorted in F-style order:\n",
      "[[ 0 20 40]\n",
      " [ 5 25 45]\n",
      " [10 30 50]\n",
      " [15 35 55]]\n",
      "0\n",
      "5\n",
      "10\n",
      "15\n",
      "20\n",
      "25\n",
      "30\n",
      "35\n",
      "40\n",
      "45\n",
      "50\n",
      "55\n"
     ]
    }
   ],
   "source": [
    "import numpy as np\n",
    "a = np.arange(0,60,5)\n",
    "a = a.reshape(3,4)\n",
    "print ('Original array is:')\n",
    "print (a)\n",
    "print ('\\n')\n",
    "\n",
    "print ('Transpose of the original array is:')\n",
    "b = a.T\n",
    "print (b)\n",
    "print ('\\n')\n",
    "\n",
    "print ('Sorted in C-style order:')\n",
    "c = b.copy(order = 'C')\n",
    "print (c)\n",
    "for x in np.nditer(c):\n",
    "   print (x)\n",
    "\n",
    "print ('\\n')\n",
    "\n",
    "print ('Sorted in F-style order:')\n",
    "c = b.copy(order = 'F')\n",
    "print (c)\n",
    "for x in np.nditer(c):\n",
    "   print (x)"
   ]
  },
  {
   "cell_type": "markdown",
   "id": "a1bbebfb",
   "metadata": {},
   "source": [
    "Modifying Array Values\n",
    "The nditer object has another optional parameter called op_flags. Its default value is read-only, but can be set to read-write or write-only mode. This will enable modifying array elements using this iterator."
   ]
  },
  {
   "cell_type": "code",
   "execution_count": 29,
   "id": "cb92c727",
   "metadata": {},
   "outputs": [
    {
     "name": "stdout",
     "output_type": "stream",
     "text": [
      "Original array is:\n",
      "[[ 0  5 10 15]\n",
      " [20 25 30 35]\n",
      " [40 45 50 55]]\n",
      "\n",
      "\n",
      "Modified array is:\n",
      "[[  0  10  20  30]\n",
      " [ 40  50  60  70]\n",
      " [ 80  90 100 110]]\n"
     ]
    }
   ],
   "source": [
    "import numpy as np\n",
    "a = np.arange(0,60,5)\n",
    "a = a.reshape(3,4)\n",
    "print ('Original array is:')\n",
    "print (a)\n",
    "print ('\\n')\n",
    "\n",
    "for x in np.nditer(a, op_flags = ['readwrite']):\n",
    "   x[...] = 2*x\n",
    "print ('Modified array is:')\n",
    "print (a)"
   ]
  },
  {
   "cell_type": "markdown",
   "id": "6072ce56",
   "metadata": {},
   "source": [
    "### Broadcasting Iteration\n",
    "If two arrays are broadcastable, a combined nditer object is able to iterate upon them concurrently. Assuming that an array a has dimension 3X4, and there is another array b of dimension 1X4, the iterator of following type is used (array b is broadcast to size of a)."
   ]
  },
  {
   "cell_type": "code",
   "execution_count": 30,
   "id": "76aa9ca3",
   "metadata": {},
   "outputs": [
    {
     "name": "stdout",
     "output_type": "stream",
     "text": [
      "First array is:\n",
      "[[ 0  5 10 15]\n",
      " [20 25 30 35]\n",
      " [40 45 50 55]]\n",
      "\n",
      "\n",
      "Second array is:\n",
      "[1 2 3 4]\n",
      "\n",
      "\n",
      "Modified array is:\n",
      "0:1\n",
      "5:2\n",
      "10:3\n",
      "15:4\n",
      "20:1\n",
      "25:2\n",
      "30:3\n",
      "35:4\n",
      "40:1\n",
      "45:2\n",
      "50:3\n",
      "55:4\n"
     ]
    }
   ],
   "source": [
    "import numpy as np \n",
    "a = np.arange(0,60,5) \n",
    "a = a.reshape(3,4) \n",
    "\n",
    "print ('First array is:') \n",
    "print (a) \n",
    "print ('\\n')  \n",
    "\n",
    "print ('Second array is:') \n",
    "b = np.array([1, 2, 3, 4], dtype = int) \n",
    "print (b)  \n",
    "print ('\\n') \n",
    "\n",
    "print ('Modified array is:') \n",
    "for x,y in np.nditer([a,b]): \n",
    "   print (\"%d:%d\" % (x,y))"
   ]
  },
  {
   "cell_type": "markdown",
   "id": "f811f5b1",
   "metadata": {},
   "source": [
    "## NumPy - Array Manipulation\n"
   ]
  },
  {
   "cell_type": "markdown",
   "id": "ea3bcded",
   "metadata": {},
   "source": [
    "###  Operations on Numpy Arrays\n",
    "\n",
    "NumPy is a Python package which means ‘Numerical Python’. It is the library for logical computing, which contains a powerful n-dimensional array object, gives tools to integrate C, C++ and so on. It is likewise helpful in linear based math, arbitrary number capacity and so on. NumPy exhibits can likewise be utilized as an effective multi-dimensional compartment for generic data. NumPy Array: Numpy array is a powerful N-dimensional array object which is in the form of rows and columns. We can initialize NumPy arrays from nested Python lists and access it elements. A Numpy array on a structural level is made up of a combination of:\n",
    "\n",
    "The Data pointer indicates the memory address of the first byte in the array.\n",
    "The Data type or dtype pointer describes the kind of elements that are contained within the array.\n",
    "The shape indicates the shape of the array.\n",
    "The strides are the number of bytes that should be skipped in memory to go to the next element.\n",
    "Operations on Numpy Array"
   ]
  },
  {
   "cell_type": "markdown",
   "id": "42cf7bf3",
   "metadata": {},
   "source": [
    "\n",
    "### Arithmetic Operations: "
   ]
  },
  {
   "cell_type": "code",
   "execution_count": 32,
   "id": "ff684ebb",
   "metadata": {},
   "outputs": [
    {
     "name": "stdout",
     "output_type": "stream",
     "text": [
      "First array:\n",
      "[[0. 1.]\n",
      " [2. 3.]]\n",
      "\n",
      "Second array:\n",
      "[12 12]\n",
      "\n",
      "Adding the two arrays:\n",
      "[[12. 13.]\n",
      " [14. 15.]]\n",
      "\n",
      "Subtracting the two arrays:\n",
      "[[-12. -11.]\n",
      " [-10.  -9.]]\n",
      "\n",
      "Multiplying the two arrays:\n",
      "[[ 0. 12.]\n",
      " [24. 36.]]\n",
      "\n",
      "Dividing the two arrays:\n",
      "[[0.         0.08333333]\n",
      " [0.16666667 0.25      ]]\n"
     ]
    }
   ],
   "source": [
    "# Python code to perform arithmetic\n",
    "# operations on NumPy array\n",
    "\n",
    "\n",
    "import numpy as np\n",
    "\n",
    "\n",
    "# Initializing the array\n",
    "arr1 = np.arange(4, dtype = np.float_).reshape(2, 2)\n",
    "\n",
    "print('First array:')\n",
    "print(arr1)\n",
    "\n",
    "print('\\nSecond array:')\n",
    "arr2 = np.array([12, 12])\n",
    "print(arr2)\n",
    "\n",
    "print('\\nAdding the two arrays:')\n",
    "print(np.add(arr1, arr2))\n",
    "\n",
    "print('\\nSubtracting the two arrays:')\n",
    "print(np.subtract(arr1, arr2))\n",
    "\n",
    "print('\\nMultiplying the two arrays:')\n",
    "print(np.multiply(arr1, arr2))\n",
    "\n",
    "print('\\nDividing the two arrays:')\n",
    "print(np.divide(arr1, arr2))\n"
   ]
  },
  {
   "cell_type": "markdown",
   "id": "6506c803",
   "metadata": {},
   "source": [
    "### numpy.reciprocal()\n",
    "This function returns the reciprocal of argument, element-wise. For elements with absolute values larger than 1, the result is always 0 and for integer 0, overflow warning is issued. Example: "
   ]
  },
  {
   "cell_type": "code",
   "execution_count": 33,
   "id": "51270312",
   "metadata": {},
   "outputs": [
    {
     "name": "stdout",
     "output_type": "stream",
     "text": [
      "Our array is:\n",
      "[ 25.     1.33   1.     1.   100.  ]\n",
      "\n",
      "After applying reciprocal function:\n",
      "[0.04      0.7518797 1.        1.        0.01     ]\n",
      "\n",
      "The second array is:\n",
      "[25]\n",
      "\n",
      "After applying reciprocal function:\n",
      "[0]\n"
     ]
    }
   ],
   "source": [
    "# Python code to perform reciprocal operation\n",
    "# on NumPy array\n",
    "import numpy as np\n",
    "arr = np.array([25, 1.33, 1, 1, 100])\n",
    "\n",
    "print('Our array is:')\n",
    "print(arr)\n",
    "\n",
    "print('\\nAfter applying reciprocal function:')\n",
    "print(np.reciprocal(arr))\n",
    "\n",
    "arr2 = np.array([25], dtype = int)\n",
    "print('\\nThe second array is:')\n",
    "print(arr2)\n",
    "\n",
    "print('\\nAfter applying reciprocal function:')\n",
    "print(np.reciprocal(arr2))\n"
   ]
  },
  {
   "cell_type": "markdown",
   "id": "60bce844",
   "metadata": {},
   "source": [
    "### numpy.power() \n",
    "This function treats elements in the first input array as the base and returns it raised to the power of the corresponding element in the second input array. "
   ]
  },
  {
   "cell_type": "code",
   "execution_count": 34,
   "id": "4cdb18f1",
   "metadata": {},
   "outputs": [
    {
     "name": "stdout",
     "output_type": "stream",
     "text": [
      "First array is:\n",
      "[ 5 10 15]\n",
      "\n",
      "Applying power function:\n",
      "[ 25 100 225]\n",
      "\n",
      "Second array is:\n",
      "[1 2 3]\n",
      "\n",
      "Applying power function again:\n",
      "[   5  100 3375]\n"
     ]
    }
   ],
   "source": [
    "# Python code to perform power operation\n",
    "# on NumPy array\n",
    "\n",
    "\n",
    "import numpy as np\n",
    "\n",
    "\n",
    "arr = np.array([5, 10, 15])\n",
    "\n",
    "print('First array is:')\n",
    "print(arr)\n",
    "\n",
    "print('\\nApplying power function:')\n",
    "print(np.power(arr, 2))\n",
    "\n",
    "print('\\nSecond array is:')\n",
    "arr1 = np.array([1, 2, 3])\n",
    "print(arr1)\n",
    "\n",
    "print('\\nApplying power function again:')\n",
    "print(np.power(arr, arr1))\n"
   ]
  },
  {
   "cell_type": "markdown",
   "id": "e376d79b",
   "metadata": {},
   "source": [
    "### numpy.mod()\n",
    "This function returns the remainder of division of the corresponding elements in the input array. The function numpy.remainder() also produces the same result. \n",
    "\n"
   ]
  },
  {
   "cell_type": "code",
   "execution_count": 35,
   "id": "249b8ded",
   "metadata": {},
   "outputs": [
    {
     "name": "stdout",
     "output_type": "stream",
     "text": [
      "First array:\n",
      "[ 5 15 20]\n",
      "\n",
      "Second array:\n",
      "[2 5 9]\n",
      "\n",
      "Applying mod() function:\n",
      "[1 0 2]\n",
      "\n",
      "Applying remainder() function:\n",
      "[1 0 2]\n"
     ]
    }
   ],
   "source": [
    "# Python code to perform mod function\n",
    "# on NumPy array\n",
    "\n",
    "\n",
    "import numpy as np\n",
    "\n",
    "\n",
    "arr = np.array([5, 15, 20])\n",
    "arr1 = np.array([2, 5, 9])\n",
    "\n",
    "print('First array:')\n",
    "print(arr)\n",
    "\n",
    "print('\\nSecond array:')\n",
    "print(arr1)\n",
    "\n",
    "print('\\nApplying mod() function:')\n",
    "print(np.mod(arr, arr1))\n",
    "\n",
    "print('\\nApplying remainder() function:')\n",
    "print(np.remainder(arr, arr1))\n"
   ]
  },
  {
   "cell_type": "code",
   "execution_count": null,
   "id": "179b5a76",
   "metadata": {},
   "outputs": [],
   "source": []
  }
 ],
 "metadata": {
  "kernelspec": {
   "display_name": "Python 3 (ipykernel)",
   "language": "python",
   "name": "python3"
  },
  "language_info": {
   "codemirror_mode": {
    "name": "ipython",
    "version": 3
   },
   "file_extension": ".py",
   "mimetype": "text/x-python",
   "name": "python",
   "nbconvert_exporter": "python",
   "pygments_lexer": "ipython3",
   "version": "3.9.13"
  }
 },
 "nbformat": 4,
 "nbformat_minor": 5
}
