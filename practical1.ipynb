{
 "cells": [
  {
   "cell_type": "markdown",
   "id": "37a898d9",
   "metadata": {},
   "source": [
    "# Overview\n"
   ]
  },
  {
   "cell_type": "markdown",
   "id": "c82dd46e",
   "metadata": {},
   "source": [
    "Python is a high-level, interpreted, interactive and object-oriented scripting language. Python is designed to be highly readable. It uses English keywords frequently whereas the other languages use punctuations. It has fewer syntactical constructions than other languages.\n",
    "\n",
    "Python is Interpreted − Python is processed at runtime by the interpreter. You do not need to compile your program before executing it. This is similar to PERL and PHP.\n",
    "\n",
    "Python is Interactive − You can actually sit at a Python prompt and interact with the interpreter directly to write your programs.\n",
    "\n",
    "Python is Object-Oriented − Python supports Object-Oriented style or technique of programming that encapsulates code within objects.\n",
    "\n",
    "Python is a Beginner's Language − Python is a great language for the beginner-level programmers and supports the development of a wide range of applications from simple text processing to WWW browsers to games.\n",
    "\n",
    "\n",
    "\n",
    "\n"
   ]
  },
  {
   "cell_type": "markdown",
   "id": "fcc763fd",
   "metadata": {},
   "source": [
    "# Python Features\n"
   ]
  },
  {
   "cell_type": "markdown",
   "id": "4d8be0d2",
   "metadata": {},
   "source": [
    "Easy-to-learn − Python has few keywords, simple structure, and a clearly defined syntax. This allows a student to pick up the language quickly.\n",
    "\n",
    "Easy-to-read − Python code is more clearly defined and visible to the eyes.\n",
    "\n",
    "Easy-to-maintain − Python's source code is fairly easy-to-maintain.\n",
    "\n",
    "A broad standard library − Python's bulk of the library is very portable and cross-platform compatible on UNIX, Windows, and Macintosh.\n",
    "\n",
    "Interactive Mode − Python has support for an interactive mode which allows interactive testing and debugging of snippets of code.\n",
    "\n",
    "Portable − Python can run on a wide variety of hardware platforms and has the same interface on all platforms.\n",
    "\n",
    "Extendable − You can add low-level modules to the Python interpreter. These modules enable programmers to add to or customize their tools to be more efficient.\n",
    "\n",
    "Databases − Python provides interfaces to all major commercial databases.\n",
    "\n",
    "GUI Programming − Python supports GUI applications that can be created and ported to many system calls, libraries and windows systems, such as Windows MFC, Macintosh, and the X Window system of Unix.\n",
    "\n",
    "Scalable − Python provides a better structure and support for large programs than shell scripting."
   ]
  },
  {
   "cell_type": "markdown",
   "id": "3d4fede6",
   "metadata": {},
   "source": [
    "BASIC SYNTAX"
   ]
  },
  {
   "cell_type": "code",
   "execution_count": 2,
   "id": "a9ab1e19",
   "metadata": {},
   "outputs": [
    {
     "name": "stdout",
     "output_type": "stream",
     "text": [
      "Hello, Python!\n"
     ]
    }
   ],
   "source": [
    "print (\"Hello, Python!\")"
   ]
  },
  {
   "cell_type": "markdown",
   "id": "935402b4",
   "metadata": {},
   "source": [
    "# Assigning Values to Variables\n"
   ]
  },
  {
   "cell_type": "markdown",
   "id": "12b17573",
   "metadata": {},
   "source": [
    "Python variables do not need explicit declaration to reserve memory space. The declaration happens automatically when you assign a value to a variable. The equal sign (=) is used to assign values to variables.\n",
    "\n",
    "The operand to the left of the = operator is the name of the variable and the operand to the right of the = operator is the value stored in the variable"
   ]
  },
  {
   "cell_type": "code",
   "execution_count": 3,
   "id": "2e4f9a16",
   "metadata": {},
   "outputs": [
    {
     "name": "stdout",
     "output_type": "stream",
     "text": [
      "100\n",
      "1000.0\n",
      "John\n"
     ]
    }
   ],
   "source": [
    "counter = 100          # An integer assignment\n",
    "miles   = 1000.0       # A floating point\n",
    "name    = \"John\"       # A string\n",
    "\n",
    "print (counter)\n",
    "print (miles)\n",
    "print (name)"
   ]
  },
  {
   "cell_type": "markdown",
   "id": "ad30b345",
   "metadata": {},
   "source": [
    "# Multiple Assignment"
   ]
  },
  {
   "cell_type": "markdown",
   "id": "e71658b1",
   "metadata": {},
   "source": [
    " an integer object is created with the value 1, and all the three variables are assigned to the same memory location. You can also assign multiple objects to multiple variables. For example "
   ]
  },
  {
   "cell_type": "code",
   "execution_count": 4,
   "id": "ba225c70",
   "metadata": {},
   "outputs": [
    {
     "name": "stdout",
     "output_type": "stream",
     "text": [
      "1\n",
      "2\n",
      "john\n"
     ]
    }
   ],
   "source": [
    "a, b, c = 1, 2, \"john\"\n",
    "print(a)\n",
    "print(b)\n",
    "print(c)"
   ]
  },
  {
   "cell_type": "markdown",
   "id": "465b720c",
   "metadata": {},
   "source": [
    "# Standard Data Types"
   ]
  },
  {
   "cell_type": "markdown",
   "id": "b530953b",
   "metadata": {},
   "source": [
    "\n",
    "The data stored in memory can be of many types. For example, a person's age is stored as a numeric value and his or her address is stored as alphanumeric characters. Python has various standard data types that are used to define the operations possible on them and the storage method for each of them.\n",
    "\n",
    "Python has five standard data types −\n",
    "\n",
    "Numbers\n",
    "\n",
    "String\n",
    "\n",
    "List\n",
    "\n",
    "Tuple\n",
    "\n",
    "Dictionary\n"
   ]
  },
  {
   "cell_type": "markdown",
   "id": "bbfc2ed9",
   "metadata": {},
   "source": [
    "## Python Numbers"
   ]
  },
  {
   "cell_type": "markdown",
   "id": "eb42cc9b",
   "metadata": {},
   "source": [
    "Number data types store numeric values. Number objects are created when you assign a value to them. For example −"
   ]
  },
  {
   "cell_type": "code",
   "execution_count": 7,
   "id": "acc64112",
   "metadata": {},
   "outputs": [],
   "source": [
    "var1 = 1\n",
    "var2 = 10"
   ]
  },
  {
   "cell_type": "markdown",
   "id": "d5a4230d",
   "metadata": {},
   "source": [
    "Python Strings\n",
    "Strings in Python are identified as a contiguous set of characters represented in the quotation marks. Python allows either pair of single or double quotes. Subsets of strings can be taken using the slice operator ([ ] and [:] ) with indexes starting at 0 in the beginning of the string and working their way from -1 to the end.\n",
    "\n",
    "The plus (+) sign is the string concatenation operator and the asterisk (*) is the repetition operator. For example −"
   ]
  },
  {
   "cell_type": "code",
   "execution_count": 9,
   "id": "3c511884",
   "metadata": {},
   "outputs": [
    {
     "name": "stdout",
     "output_type": "stream",
     "text": [
      "Hello World!\n",
      "H\n",
      "llo\n",
      "llo World!\n",
      "Hello World!Hello World!\n",
      "Hello World!TEST\n"
     ]
    }
   ],
   "source": [
    "str = 'Hello World!'\n",
    "\n",
    "print (str)          # Prints complete string\n",
    "print (str[0])       # Prints first character of the string\n",
    "print (str[2:5])     # Prints characters starting from 3rd to 5th\n",
    "print (str[2:])      # Prints string starting from 3rd character\n",
    "print (str * 2)      # Prints string two times\n",
    "print (str + \"TEST\") # Prints concatenated string"
   ]
  },
  {
   "cell_type": "markdown",
   "id": "55192395",
   "metadata": {},
   "source": [
    "## Python Lists"
   ]
  },
  {
   "cell_type": "markdown",
   "id": "8990f1e1",
   "metadata": {},
   "source": [
    "\n",
    "Lists are the most versatile of Python's compound data types. A list contains items separated by commas and enclosed within square brackets ([]). To some extent, lists are similar to arrays in C. One of the differences between them is that all the items belonging to a list can be of different data type.\n",
    "\n",
    "The values stored in a list can be accessed using the slice operator ([ ] and [:]) with indexes starting at 0 in the beginning of the list and working their way to end -1. The plus (+) sign is the list concatenation operator, and the asterisk (*) is the repetition operator. For example −"
   ]
  },
  {
   "cell_type": "code",
   "execution_count": 10,
   "id": "ae4356d4",
   "metadata": {},
   "outputs": [
    {
     "name": "stdout",
     "output_type": "stream",
     "text": [
      "['abcd', 786, 2.23, 'john', 70.2]\n",
      "abcd\n",
      "[786, 2.23]\n",
      "[2.23, 'john', 70.2]\n",
      "[123, 'john', 123, 'john']\n",
      "['abcd', 786, 2.23, 'john', 70.2, 123, 'john']\n"
     ]
    }
   ],
   "source": [
    "list = [ 'abcd', 786 , 2.23, 'john', 70.2 ]\n",
    "tinylist = [123, 'john']\n",
    "\n",
    "print (list)          # Prints complete list\n",
    "print (list[0])       # Prints first element of the list\n",
    "print (list[1:3])     # Prints elements starting from 2nd till 3rd \n",
    "print (list[2:])      # Prints elements starting from 3rd element\n",
    "print (tinylist * 2)  # Prints list two times\n",
    "print (list + tinylist) # Prints concatenated lists"
   ]
  },
  {
   "cell_type": "markdown",
   "id": "ac61b791",
   "metadata": {},
   "source": [
    "## Python Tuples"
   ]
  },
  {
   "cell_type": "markdown",
   "id": "6bcb3c2c",
   "metadata": {},
   "source": [
    "\n",
    "A tuple is another sequence data type that is similar to the list. A tuple consists of a number of values separated by commas. Unlike lists, however, tuples are enclosed within parenthesis.\n",
    "\n",
    "The main difference between lists and tuples are − Lists are enclosed in brackets ( [ ] ) and their elements and size can be changed, while tuples are enclosed in parentheses ( ( ) ) and cannot be updated. Tuples can be thought of as read-only lists. For example −\n",
    "\n"
   ]
  },
  {
   "cell_type": "code",
   "execution_count": 11,
   "id": "170a2245",
   "metadata": {},
   "outputs": [
    {
     "name": "stdout",
     "output_type": "stream",
     "text": [
      "('abcd', 786, 2.23, 'john', 70.2)\n",
      "abcd\n",
      "(786, 2.23)\n",
      "(2.23, 'john', 70.2)\n",
      "(123, 'john', 123, 'john')\n",
      "('abcd', 786, 2.23, 'john', 70.2, 123, 'john')\n"
     ]
    }
   ],
   "source": [
    "tuple = ( 'abcd', 786 , 2.23, 'john', 70.2  )\n",
    "tinytuple = (123, 'john')\n",
    "\n",
    "print (tuple)           # Prints complete tuple\n",
    "print (tuple[0])        # Prints first element of the tuple\n",
    "print (tuple[1:3])      # Prints elements starting from 2nd till 3rd \n",
    "print (tuple[2:])       # Prints elements starting from 3rd element\n",
    "print (tinytuple * 2)   # Prints tuple two times\n",
    "print (tuple + tinytuple) # Prints concatenated tuple"
   ]
  },
  {
   "cell_type": "markdown",
   "id": "1f5ba138",
   "metadata": {},
   "source": [
    "## Python Dictionary"
   ]
  },
  {
   "cell_type": "markdown",
   "id": "c706ab41",
   "metadata": {},
   "source": [
    "\n",
    "Python's dictionaries are kind of hash-table type. They work like associative arrays or hashes found in Perl and consist of key-value pairs. A dictionary key can be almost any Python type, but are usually numbers or strings. Values, on the other hand, can be any arbitrary Python object.\n",
    "\n",
    "Dictionaries are enclosed by curly braces ({ }) and values can be assigned and accessed using square braces ([]). For example −"
   ]
  },
  {
   "cell_type": "code",
   "execution_count": 1,
   "id": "adb9ee1c",
   "metadata": {},
   "outputs": [
    {
     "name": "stdout",
     "output_type": "stream",
     "text": [
      "This is one\n",
      "This is two\n",
      "{'name': 'john', 'code': 6734, 'dept': 'sales'}\n",
      "dict_keys(['name', 'code', 'dept'])\n",
      "dict_values(['john', 6734, 'sales'])\n"
     ]
    }
   ],
   "source": [
    "dict = {}\n",
    "dict['one'] = \"This is one\"\n",
    "dict[2]     = \"This is two\"\n",
    "\n",
    "tinydict = {'name': 'john','code':6734, 'dept': 'sales'}\n",
    "\n",
    "print (dict['one'])       # Prints value for 'one' key\n",
    "print (dict[2])           # Prints value for 2 key\n",
    "print (tinydict)          # Prints complete dictionary\n",
    "print (tinydict.keys())   # Prints all the keys\n",
    "print (tinydict.values()) # Prints all the values"
   ]
  },
  {
   "cell_type": "markdown",
   "id": "51ea73e8",
   "metadata": {},
   "source": [
    "# Python Operators"
   ]
  },
  {
   "cell_type": "markdown",
   "id": "bc25589e",
   "metadata": {},
   "source": [
    " Python language supports the following types of operators −\n",
    "\n",
    "Arithmetic Operators\n",
    "\n",
    "\n",
    "Comparison (Relational) Operators\n",
    "\n",
    "Assignment Operators\n",
    "\n",
    "Logical Operators\n",
    "\n",
    "Bitwise Operators\n",
    "\n",
    "Membership Operators\n",
    "\n",
    "Identity Operators\n"
   ]
  },
  {
   "cell_type": "markdown",
   "id": "7e66999a",
   "metadata": {},
   "source": [
    "## Arithmetic Operators"
   ]
  },
  {
   "cell_type": "code",
   "execution_count": 3,
   "id": "e2e87b26",
   "metadata": {},
   "outputs": [
    {
     "name": "stdout",
     "output_type": "stream",
     "text": [
      "6\n",
      "-2\n",
      "0.5\n",
      "8\n",
      "0\n",
      "0\n",
      "16\n"
     ]
    }
   ],
   "source": [
    "a = 2\n",
    "b = 4\n",
    "print(a+b)\n",
    "print(a-b)\n",
    "print(a/b)\n",
    "print(a*b)\n",
    "print(b%a)\n",
    "print(a//b)\n",
    "print(a**b)\n"
   ]
  },
  {
   "cell_type": "markdown",
   "id": "7cfd00bd",
   "metadata": {},
   "source": [
    "## Comparison (Relational) Operators"
   ]
  },
  {
   "cell_type": "code",
   "execution_count": 4,
   "id": "5e28fa33",
   "metadata": {},
   "outputs": [
    {
     "name": "stdout",
     "output_type": "stream",
     "text": [
      "False\n",
      "False\n",
      "True\n",
      "True\n",
      "False\n",
      "False\n"
     ]
    }
   ],
   "source": [
    "a = 10\n",
    "b = 15\n",
    "c = 10\n",
    "print(a == b)\n",
    "print(a != c)\n",
    "print(a < b)\n",
    "print(a <= c)\n",
    "print(a > b)\n",
    "print(a >= b)\n"
   ]
  },
  {
   "cell_type": "markdown",
   "id": "d8aa69df",
   "metadata": {},
   "source": [
    "## Assignment Operators"
   ]
  },
  {
   "cell_type": "code",
   "execution_count": 5,
   "id": "fb23607a",
   "metadata": {},
   "outputs": [
    {
     "name": "stdout",
     "output_type": "stream",
     "text": [
      "13\n"
     ]
    }
   ],
   "source": [
    "a = 10\n",
    "a += 5\n",
    "a -= 2\n",
    "print(a)\n"
   ]
  },
  {
   "cell_type": "markdown",
   "id": "8b5aba20",
   "metadata": {},
   "source": [
    "## Bitwise Operators"
   ]
  },
  {
   "cell_type": "code",
   "execution_count": 6,
   "id": "57885dd4",
   "metadata": {},
   "outputs": [
    {
     "name": "stdout",
     "output_type": "stream",
     "text": [
      "0\n",
      "30\n",
      "30\n",
      "20\n",
      "10\n",
      "-21\n"
     ]
    }
   ],
   "source": [
    "a = 10\n",
    "b = 20\n",
    "print(a&b)\n",
    "print(a|b)\n",
    "print(a^b)\n",
    "print(a<<1)\n",
    "print(b>>1)\n",
    "print(~b)\n"
   ]
  },
  {
   "cell_type": "markdown",
   "id": "470ef7dc",
   "metadata": {},
   "source": [
    "## Logical Operators\n"
   ]
  },
  {
   "cell_type": "code",
   "execution_count": 7,
   "id": "99ef259e",
   "metadata": {},
   "outputs": [
    {
     "name": "stdout",
     "output_type": "stream",
     "text": [
      "False\n",
      "True\n",
      "True\n"
     ]
    }
   ],
   "source": [
    "a = True\n",
    "b = False\n",
    "print(a and b)\n",
    "print(a or b)\n",
    "print(not b)\n"
   ]
  },
  {
   "cell_type": "markdown",
   "id": "802d7a38",
   "metadata": {},
   "source": [
    "## Membership Operator\n"
   ]
  },
  {
   "cell_type": "code",
   "execution_count": 8,
   "id": "c9c41b0f",
   "metadata": {},
   "outputs": [
    {
     "name": "stdout",
     "output_type": "stream",
     "text": [
      "True\n",
      "True\n"
     ]
    }
   ],
   "source": [
    "a = 10\n",
    "b = [10, 20, 30]\n",
    "c = 50\n",
    "print(a in b)\n",
    "print(c not in b)"
   ]
  },
  {
   "cell_type": "markdown",
   "id": "5af2e67a",
   "metadata": {},
   "source": [
    "## Identity Operator\n"
   ]
  },
  {
   "cell_type": "code",
   "execution_count": 9,
   "id": "446b0614",
   "metadata": {},
   "outputs": [
    {
     "name": "stdout",
     "output_type": "stream",
     "text": [
      "True\n",
      "True\n"
     ]
    }
   ],
   "source": [
    "a = [12]\n",
    "b = a\n",
    "c = [12]\n",
    "print(a is b)\n",
    "print(a is not c)"
   ]
  },
  {
   "cell_type": "markdown",
   "id": "a700f831",
   "metadata": {},
   "source": [
    "# Numbers Data Type\n"
   ]
  },
  {
   "cell_type": "markdown",
   "id": "1d9f0581",
   "metadata": {},
   "source": [
    "Number data types store numeric values. They are immutable data types. This means, changing the\n",
    "value of a number data type results in a newly allocated object.\n",
    "Numbers Data Type\n",
    "\n",
    "\n",
    "Number objects are created when you assign a value to them. Python supports different numerical\n",
    "types −\n",
    "\n",
    "int (signed integers) − They are often called just integers or ints. They are positive or negative\n",
    "whole numbers with no decimal point. Integers in Python 3 are of unlimited size. Python 2 has\n",
    "two integer types - int and long. There is no 'long integer' in Python 3 anymore.\n",
    "\n",
    "\n",
    "float (floating point real values) − Also called floats, they represent real numbers and are\n",
    "written with a decimal point dividing the integer and the fractional parts. Floats may also be in\n",
    "scientific notation, with E or e indicating the power of 10 (2.5e2 = 2.5 x 102 = 250).\n",
    "\n",
    "\n",
    "complex (complex numbers) − are of the form a + bJ, where a and b are floats and J (or j)\n",
    "represents the square root of -1 (which is an imaginary number). The real part of the number\n",
    "is a, and the imaginary part is b. Complex numbers are not used much in Python\n",
    "programming.\n"
   ]
  },
  {
   "cell_type": "markdown",
   "id": "24ffb298",
   "metadata": {},
   "source": [
    "## Mathematical Function\n"
   ]
  },
  {
   "cell_type": "markdown",
   "id": "6acfedd2",
   "metadata": {},
   "source": [
    "abs(x)\n",
    "The absolute value of x: the (positive) distance between x and zero.\n",
    "\n",
    "ceil(x)\n",
    "The ceiling of x: the smallest integer not less than x.\n",
    "\n",
    "exp(x)\n",
    "The exponential of x: ex\n",
    "\n",
    "floor(x)\n",
    "The floor of x: the largest integer not greater than x.\n",
    "\n",
    "log(x)\n",
    "The natural logarithm of x, for x > 0.\n",
    "\n",
    "log10(x)\n",
    "Mathematical Function\n",
    "The base-10 logarithm of x for x > 0.\n",
    "\n",
    "max(x1, x2,...)\n",
    "The largest of its arguments: the value closest to positive\n",
    "infinity\n",
    "\n",
    "min(x1, x2,...)\n",
    "The smallest of its arguments: the value closest to negative infinity.\n",
    "\n",
    "round(x [,n])\n",
    "x rounded to n digits from the decimal point. Python rounds away from zero as a tie-breaker:\n",
    "round(0.5) is 1.0 and round(-0.5) is -1.0.\n",
    "\n",
    "sqrt(x)\n",
    "The square root of x for x > 0.\n",
    "\n",
    "\n",
    "\n"
   ]
  },
  {
   "cell_type": "code",
   "execution_count": 2,
   "id": "a77b9e7f",
   "metadata": {},
   "outputs": [
    {
     "name": "stdout",
     "output_type": "stream",
     "text": [
      "2.5\n",
      "-3\n",
      "-2\n",
      "0.9162907318741551\n",
      "10\n"
     ]
    }
   ],
   "source": [
    "import math\n",
    "x = -2.5\n",
    "print(abs(x))\n",
    "print(math.floor(x))\n",
    "print(math.ceil(x))\n",
    "print(math.log(abs(x)))\n",
    "print(max(x, -2, -5, 10))\n"
   ]
  },
  {
   "cell_type": "markdown",
   "id": "b35d5d9d",
   "metadata": {},
   "source": [
    "## Trigonometric function"
   ]
  },
  {
   "cell_type": "markdown",
   "id": "6424182f",
   "metadata": {},
   "source": [
    "acos(x)\n",
    "Return the arc cosine of x, in radians.\n",
    "\n",
    "asin(x)\n",
    "Trigonometric Functions\n",
    "Return the arc sine of x, in radians.\n",
    "\n",
    "atan(x)\n",
    "Return the arc tangent of x, in radians.\n",
    "\n",
    "atan2(y, x)\n",
    "Return atan(y / x), in radians.\n",
    "\n",
    "cos(x)\n",
    "Return the cosine of x radians.\n",
    "\n",
    "hypot(x, y)\n",
    "Return the Euclidean norm, sqrt(xx + yy).\n",
    "\n",
    "sin(x)\n",
    "Return the sine of x radians.\n",
    "\n",
    "tan(x)\n",
    "Return the tangent of x radians.\n",
    "\n",
    "\n",
    "degrees(x)\n",
    "Converts angle x from radians to degrees.\n",
    "\n",
    "radians(x)\n",
    "Converts angle x from degrees to radians.\n"
   ]
  },
  {
   "cell_type": "code",
   "execution_count": 5,
   "id": "385787d6",
   "metadata": {},
   "outputs": [
    {
     "name": "stdout",
     "output_type": "stream",
     "text": [
      "0.6641741461866275\n",
      "0.7475778912844228\n",
      "3437.746770784939\n",
      "60\n"
     ]
    }
   ],
   "source": [
    "import math\n",
    "y = 60   #in degree\n",
    "x = math.degrees(y)\n",
    "print(math.cos(x))\n",
    "print(math.sin(x))\n",
    "print(x)\n",
    "print(y)\n"
   ]
  },
  {
   "cell_type": "code",
   "execution_count": null,
   "id": "14e87aaa",
   "metadata": {},
   "outputs": [],
   "source": []
  }
 ],
 "metadata": {
  "kernelspec": {
   "display_name": "Python 3 (ipykernel)",
   "language": "python",
   "name": "python3"
  },
  "language_info": {
   "codemirror_mode": {
    "name": "ipython",
    "version": 3
   },
   "file_extension": ".py",
   "mimetype": "text/x-python",
   "name": "python",
   "nbconvert_exporter": "python",
   "pygments_lexer": "ipython3",
   "version": "3.9.13"
  }
 },
 "nbformat": 4,
 "nbformat_minor": 5
}
